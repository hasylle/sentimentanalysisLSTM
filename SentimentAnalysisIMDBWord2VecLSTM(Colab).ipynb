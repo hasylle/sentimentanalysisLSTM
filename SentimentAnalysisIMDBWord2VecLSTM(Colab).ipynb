{
  "nbformat": 4,
  "nbformat_minor": 0,
  "metadata": {
    "kernelspec": {
      "name": "python3",
      "display_name": "Python 3"
    },
    "language_info": {
      "codemirror_mode": {
        "name": "ipython",
        "version": 3
      },
      "file_extension": ".py",
      "mimetype": "text/x-python",
      "name": "python",
      "nbconvert_exporter": "python",
      "pygments_lexer": "ipython3",
      "version": "3.6.9"
    },
    "colab": {
      "name": "SentimentAnalysisIMDBWord2VecBiLSTM.ipynb",
      "provenance": [],
      "toc_visible": true,
      "include_colab_link": true
    },
    "accelerator": "GPU"
  },
  "cells": [
    {
      "cell_type": "markdown",
      "metadata": {
        "id": "view-in-github",
        "colab_type": "text"
      },
      "source": [
        "<a href=\"https://colab.research.google.com/github/hasylle/sentimentanalysisLSTM/blob/master/SentimentAnalysisIMDBWord2VecLSTM(Colab).ipynb\" target=\"_parent\"><img src=\"https://colab.research.google.com/assets/colab-badge.svg\" alt=\"Open In Colab\"/></a>"
      ]
    },
    {
      "cell_type": "markdown",
      "metadata": {
        "id": "ojhFt7SxWxHC",
        "colab_type": "text"
      },
      "source": [
        "# Bag of Words meets Bag of Popcorn\n",
        "A Kaggle Competition using Google's Word2Vec for movie reviews"
      ]
    },
    {
      "cell_type": "markdown",
      "metadata": {
        "id": "W8VyEP86WxHD",
        "colab_type": "text"
      },
      "source": [
        "# Data Set\n",
        "The labeled data set consists of 50,000 IMDB movie reviews, specially selected for sentiment analysis. The sentiment of reviews is binary, meaning the IMDB rating < 5 results in a sentiment score of 0, and rating >=7 have a sentiment score of 1. No individual movie has more than 30 reviews. The 25,000 review labeled training set does not include any of the same movies as the 25,000 review test set. In addition, there are another 50,000 IMDB reviews provided without any rating labels."
      ]
    },
    {
      "cell_type": "markdown",
      "metadata": {
        "id": "IMRXnBAQWxHD",
        "colab_type": "text"
      },
      "source": [
        "To train the word2vec, we use all available data sets and combine to form a big corpus. Also, to increase our accuracy, we use an additional augmented dataset with a total of 49,912 reviews which also contains the original 25,000 train data set."
      ]
    },
    {
      "cell_type": "markdown",
      "metadata": {
        "id": "e6QtIIf-WxHE",
        "colab_type": "text"
      },
      "source": [
        "First, we should make sure that no entry in the test data set is in the augmented data set. This is confirmed by the code below: "
      ]
    },
    {
      "cell_type": "code",
      "metadata": {
        "id": "O-CHcW9hWxHF",
        "colab_type": "code",
        "outputId": "e12d36a6-0bdb-4370-ad9f-153cda949c27",
        "colab": {
          "base_uri": "https://localhost:8080/",
          "height": 629
        }
      },
      "source": [
        "import pandas as pd\n",
        "from google.colab import drive\n",
        "drive.mount('/content/drive')\n",
        "!ls \"/content/drive/My Drive/Colab Notebooks\"\n",
        "testdf = pd.read_csv('/content/drive/My Drive/Colab Notebooks/testData.tsv',sep=\"\\t\")\n",
        "traindf = pd.read_csv('/content/drive/My Drive/Colab Notebooks/augmented_traindata_clean2.csv')\n",
        "print(traindf.info())\n",
        "mergedf = pd.merge(testdf,traindf,on=['review'],how='inner')\n",
        "print(mergedf.info())\n",
        "print(mergedf.head())"
      ],
      "execution_count": 0,
      "outputs": [
        {
          "output_type": "stream",
          "text": [
            "Mounted at /content/drive\n",
            " augmented_traindata_clean2.csv\n",
            " cnn_cifar10.ipynb\n",
            " imdb_master.csv\n",
            " labeledTrainData.tsv\n",
            "'mlp_cifar10 (1).ipynb'\n",
            " mlp_cifar10.ipynb\n",
            " SentimentAnalysisIMDBCBOWLSTM.ipynb\n",
            " SentimentAnalysisIMDB.ipynb\n",
            " SentimentAnalysisIMDBWord2VecBiLSTM.ipynb\n",
            " testData.tsv\n",
            " unlabeledTrainData.tsv\n",
            " Untitled0.ipynb\n",
            " Untitled1.ipynb\n",
            "<class 'pandas.core.frame.DataFrame'>\n",
            "RangeIndex: 49912 entries, 0 to 49911\n",
            "Data columns (total 3 columns):\n",
            "sentiment    49912 non-null int64\n",
            "review       49912 non-null object\n",
            "type         49912 non-null object\n",
            "dtypes: int64(1), object(2)\n",
            "memory usage: 1.1+ MB\n",
            "None\n",
            "<class 'pandas.core.frame.DataFrame'>\n",
            "Index: 0 entries\n",
            "Data columns (total 4 columns):\n",
            "id           0 non-null object\n",
            "review       0 non-null object\n",
            "sentiment    0 non-null int64\n",
            "type         0 non-null object\n",
            "dtypes: int64(1), object(3)\n",
            "memory usage: 0.0+ bytes\n",
            "None\n",
            "Empty DataFrame\n",
            "Columns: [id, review, sentiment, type]\n",
            "Index: []\n"
          ],
          "name": "stdout"
        }
      ]
    },
    {
      "cell_type": "markdown",
      "metadata": {
        "id": "JpCPDRoaWxHH",
        "colab_type": "text"
      },
      "source": [
        "Next, we combine all the datasets into one review corpus which we'll use only for the Word2vec model. "
      ]
    },
    {
      "cell_type": "code",
      "metadata": {
        "scrolled": true,
        "id": "Z5ounYMRWxHI",
        "colab_type": "code",
        "outputId": "f440923f-ab87-4a39-e3aa-90ccb3233caf",
        "colab": {
          "base_uri": "https://localhost:8080/",
          "height": 51
        }
      },
      "source": [
        "import pandas as pd\n",
        "pd.options.display.max_colwidth = 100\n",
        "filepath = '/content/drive/My Drive/Colab Notebooks/'\n",
        "traindf=[]\n",
        "traindf = pd.read_csv(filepath+'augmented_traindata_clean2.csv')\n",
        "#traindf = traindf.drop(['id'], axis=1)\n",
        "traindf['type'] = 'train'\n",
        "addtldf=[]\n",
        "addtldf = pd.read_csv(filepath+'unlabeledTrainData.tsv',error_bad_lines=False,delimiter=\"\\t\")\n",
        "addtldf = addtldf.drop(['id'], axis=1)\n",
        "addtldf['type'] = 'addtl'\n",
        "test=[]\n",
        "test = pd.read_csv(filepath+'testData.tsv',delimiter=\"\\t\")\n",
        "test['type'] = 'test'\n",
        "revcorpus = pd.concat([traindf,addtldf,test],ignore_index=True,sort=False)\n",
        "print(\"Number of reviews: \",len(revcorpus))\n"
      ],
      "execution_count": 0,
      "outputs": [
        {
          "output_type": "stream",
          "text": [
            "b'Skipping line 43043: expected 2 fields, saw 3\\n'\n"
          ],
          "name": "stderr"
        },
        {
          "output_type": "stream",
          "text": [
            "Number of reviews:  124910\n"
          ],
          "name": "stdout"
        }
      ]
    },
    {
      "cell_type": "markdown",
      "metadata": {
        "id": "U8ksnzNnWxHL",
        "colab_type": "text"
      },
      "source": [
        "# Data Preprocessing\n",
        "We perform data cleaning on the reviews by removing tags, removing stopwords, lemmatization, and so on. "
      ]
    },
    {
      "cell_type": "code",
      "metadata": {
        "id": "NP0B1h6MWxHL",
        "colab_type": "code",
        "outputId": "e585af54-30a8-4e1a-ac2d-1ce920913285",
        "colab": {
          "base_uri": "https://localhost:8080/",
          "height": 136
        }
      },
      "source": [
        "import re\n",
        "import string\n",
        "# import the inflect library \n",
        "import inflect \n",
        "from nltk.stem import WordNetLemmatizer\n",
        "from nltk.corpus import stopwords\n",
        "from nltk.tokenize import word_tokenize \n",
        "from nltk.stem.porter import PorterStemmer \n",
        "from sklearn.feature_extraction.text import CountVectorizer\n",
        "from nltk.util import ngrams,bigrams\n",
        "from nltk.tokenize import sent_tokenize\n",
        "from nltk import download,set_proxy\n",
        "download('punkt')\n",
        "download('stopwords')\n",
        "download('wordnet')\n",
        "stemmer = PorterStemmer() \n",
        "p = inflect.engine() \n",
        "stop_words = set(stopwords.words(\"english\")) \n",
        "# extract pure text from html\n",
        "def remove_tags(text):\n",
        "    try:\n",
        "        text = re.sub(r'<[^<>]+>', \" \", text)\n",
        "    except:\n",
        "        print(text)\n",
        "    return text\n",
        "# remove stopwords function \n",
        "def remove_stopwords(text): \n",
        "    word_tokens = word_tokenize(text) \n",
        "    filtered_text = [word for word in word_tokens if word not in stop_words] \n",
        "    filtered_text = \" \".join(filtered_text)\n",
        "    return filtered_text \n",
        "\n",
        "def text_lowercase(text): \n",
        "    return text.lower() \n",
        "  \n",
        "# convert number into words \n",
        "def convert_number(text): \n",
        "    # split string into list of words \n",
        "    temp_str = text.split() \n",
        "    # initialise empty list \n",
        "    new_string = [] \n",
        "  \n",
        "    for word in temp_str: \n",
        "        # if word is a digit, convert the digit \n",
        "        # to numbers and append into the new_string list \n",
        "        if word.isdigit(): \n",
        "            temp = p.number_to_words(word) \n",
        "            new_string.append(temp) \n",
        "  \n",
        "        # append the word as it is \n",
        "        else: \n",
        "            new_string.append(word) \n",
        "  \n",
        "    # join the words of new_string to form a string \n",
        "    temp_str = ' '.join(new_string) \n",
        "    return temp_str\n",
        "\n",
        "# remove punctuation \n",
        "def remove_punctuation(text): \n",
        "    translator = str.maketrans('', '', string.punctuation) \n",
        "    return text.translate(translator)\n",
        "\n",
        "    \n",
        "# remove whitespace from text \n",
        "def remove_whitespace(text): \n",
        "    return  \" \".join(text.split()) \n",
        "\n",
        "lemmatizer = WordNetLemmatizer() \n",
        "# lemmatize string \n",
        "def lemmatize_word(text): \n",
        "    word_tokens = word_tokenize(text) \n",
        "    # provide context i.e. part-of-speech \n",
        "    lemmas = [lemmatizer.lemmatize(word, pos ='v') for word in word_tokens] \n",
        "    #lemmas = \" \".join(lemmas)\n",
        "    return lemmas \n",
        "# stem words in the list of tokenised words \n",
        "def stem_words(text): \n",
        "    word_tokens = word_tokenize(text) \n",
        "    stems = [stemmer.stem(word) for word in word_tokens] \n",
        "    #stems = \" \".join(stems)\n",
        "    return stems \n",
        "\n",
        "def generate_ngram(text,n):\n",
        "    text = re.sub(r'[^a-zA-Z0-9\\s]', ' ', text)\n",
        "    tokens = word_tokenize(text) \n",
        "    output = list(ngrams(tokens, n))\n",
        "    #output = bigrams(tokens)\n",
        "    return output\n",
        "\n",
        "def preprocess_text(text):\n",
        "    text = remove_tags(text)\n",
        "    text = convert_number(text)\n",
        "    text = text_lowercase(text)\n",
        "    text = remove_punctuation(text)\n",
        "    text = remove_stopwords(text)\n",
        "    text = remove_whitespace(text)\n",
        "    #text = stem_words(text)\n",
        "    #text = ngram_vector(text)\n",
        "    #print(text)\n",
        "    text = lemmatize_word(text)\n",
        "    #text = stem_words(text)\n",
        "    return text\n",
        "#revcorpus = revcorpus[1:5]\n",
        "revcorpus['processed_review'] = revcorpus.review.apply(lambda x: preprocess_text(x))  \n",
        "#revcorpus['bigrams'] = revcorpus.processed_review.apply(lambda x:generate_ngram(x,2))\n",
        "print(\"Number of reviews: \",len(revcorpus))\n",
        "#print(revcorpus.head(3))\n",
        "#traindf['processed_review'] = traindf.review.apply(lambda x: preprocess_text(x))  \n",
        "#print(\"Number of reviews: \",len(traindf))\n",
        "#traindf.head(3)"
      ],
      "execution_count": 0,
      "outputs": [
        {
          "output_type": "stream",
          "text": [
            "[nltk_data] Downloading package punkt to /root/nltk_data...\n",
            "[nltk_data]   Package punkt is already up-to-date!\n",
            "[nltk_data] Downloading package stopwords to /root/nltk_data...\n",
            "[nltk_data]   Package stopwords is already up-to-date!\n",
            "[nltk_data] Downloading package wordnet to /root/nltk_data...\n",
            "[nltk_data]   Package wordnet is already up-to-date!\n",
            "Number of reviews:  124910\n"
          ],
          "name": "stdout"
        }
      ]
    },
    {
      "cell_type": "code",
      "metadata": {
        "id": "Ro1Pz6o5WxHO",
        "colab_type": "code",
        "outputId": "0b403a19-0d5d-47c3-836b-d9cfb1236f69",
        "colab": {
          "base_uri": "https://localhost:8080/",
          "height": 85
        }
      },
      "source": [
        "%%time\n",
        "from gensim.models import Phrases\n",
        "from gensim.models.phrases import Phraser\n",
        "reviews = revcorpus['processed_review']\n",
        "reviews.head()\n",
        "bigrams = Phrases(sentences=reviews)\n",
        "trigrams = Phrases(sentences=bigrams[reviews])"
      ],
      "execution_count": 0,
      "outputs": [
        {
          "output_type": "stream",
          "text": [
            "/usr/local/lib/python3.6/dist-packages/gensim/models/phrases.py:598: UserWarning: For a faster implementation, use the gensim.models.phrases.Phraser class\n",
            "  warnings.warn(\"For a faster implementation, use the gensim.models.phrases.Phraser class\")\n"
          ],
          "name": "stderr"
        },
        {
          "output_type": "stream",
          "text": [
            "CPU times: user 2min 15s, sys: 477 ms, total: 2min 16s\n",
            "Wall time: 2min 16s\n"
          ],
          "name": "stdout"
        }
      ]
    },
    {
      "cell_type": "code",
      "metadata": {
        "id": "HkahgoWmWxHP",
        "colab_type": "code",
        "outputId": "41379d4c-159f-486a-d73c-361a3c6ae656",
        "colab": {
          "base_uri": "https://localhost:8080/",
          "height": 105
        }
      },
      "source": [
        "print(bigrams[reviews][2])\n",
        "print(trigrams[bigrams[reviews]][2])"
      ],
      "execution_count": 0,
      "outputs": [
        {
          "output_type": "stream",
          "text": [
            "['must', 'assume', 'praise', 'film', 'greatest', 'film', 'opera', 'ever', 'didnt', 'read_somewhere', 'either', 'dont_care', 'opera', 'dont_care', 'wagner', 'dont_care', 'anything', 'except', 'desire', 'appear', 'culture', 'either', 'representation', 'wagners', 'swansong', 'movie', 'strike', 'unmitigated_disaster', 'leaden', 'read', 'score', 'match', 'tricksy', 'lugubrious', 'realisation', 'text', 'questionable', 'people', 'ideas', 'opera', 'matter', 'play', 'especially', 'one', 'shakespeare', 'allow', 'anywhere_near', 'theatre', 'film', 'studio', 'syberberg', 'fashionably', 'without', 'smallest', 'justification', 'wagners', 'text', 'decide', 'parsifal', 'bisexual', 'integration', 'title', 'character', 'latter_stag', 'transmute', 'kind', 'beatnik', 'babe', 'though', 'one', 'continue', 'sing', 'high', 'tenor', 'actors', 'film', 'singers', 'get', 'double_dose', 'armin_jordan', 'conductor', 'see', 'face', 'hear', 'voice', 'amfortas', 'also', 'appear', 'monstrously', 'double_exposure', 'kind', 'batonzilla', 'conductor', 'eat', 'monsalvat', 'play', 'good', 'friday', 'music', 'way', 'transcendant', 'loveliness', 'nature', 'represent', 'scatter', 'shopworn', 'flaccid', 'crocuses', 'stick', 'illlaid', 'turf', 'expedient', 'baffle', 'theatre', 'sometimes', 'piece', 'imperfections', 'thoughts', 'cant', 'think', 'syberberg', 'couldnt', 'splice', 'parsifal', 'gurnemanz', 'mountain', 'pasture', 'lush', 'provide', 'julie_andrews', 'sound', 'music', 'sound', 'hard', 'endure', 'high', 'voice', 'trumpet', 'particular', 'possess', 'aural', 'glare', 'add', 'another', 'sort', 'fatigue', 'impatience', 'uninspired', 'conduct', 'paralytic', 'unfold', 'ritual', 'someone', 'another', 'review', 'mention', 'one_thousand', 'nine_hundred', 'fiftyone', 'bayreuth', 'record', 'knappertsbusch', 'though', 'tempi', 'often', 'slow', 'jordan', 'altogether', 'lack', 'sense', 'pulse', 'feel', 'ebb_flow', 'music', 'half_century', 'orchestral', 'sound', 'set', 'modern', 'press', 'still', 'superior', 'film']\n",
            "['must', 'assume', 'praise', 'film', 'greatest', 'film', 'opera', 'ever', 'didnt', 'read_somewhere', 'either', 'dont_care', 'opera', 'dont_care', 'wagner', 'dont_care', 'anything', 'except', 'desire', 'appear', 'culture', 'either', 'representation', 'wagners', 'swansong', 'movie', 'strike', 'unmitigated_disaster', 'leaden', 'read', 'score', 'match', 'tricksy', 'lugubrious', 'realisation', 'text', 'questionable', 'people', 'ideas', 'opera', 'matter', 'play', 'especially', 'one', 'shakespeare', 'allow', 'anywhere_near', 'theatre', 'film', 'studio', 'syberberg', 'fashionably', 'without', 'smallest', 'justification', 'wagners', 'text', 'decide', 'parsifal', 'bisexual', 'integration', 'title', 'character', 'latter_stag', 'transmute', 'kind', 'beatnik', 'babe', 'though', 'one', 'continue', 'sing', 'high', 'tenor', 'actors', 'film', 'singers', 'get', 'double_dose', 'armin_jordan', 'conductor', 'see', 'face', 'hear', 'voice', 'amfortas', 'also', 'appear', 'monstrously', 'double_exposure', 'kind', 'batonzilla', 'conductor', 'eat', 'monsalvat', 'play', 'good', 'friday', 'music', 'way', 'transcendant', 'loveliness', 'nature', 'represent', 'scatter', 'shopworn', 'flaccid', 'crocuses', 'stick', 'illlaid', 'turf', 'expedient', 'baffle', 'theatre', 'sometimes', 'piece', 'imperfections', 'thoughts', 'cant', 'think', 'syberberg', 'couldnt', 'splice', 'parsifal', 'gurnemanz', 'mountain', 'pasture', 'lush', 'provide', 'julie_andrews', 'sound', 'music', 'sound', 'hard', 'endure', 'high', 'voice', 'trumpet', 'particular', 'possess', 'aural', 'glare', 'add', 'another', 'sort', 'fatigue', 'impatience', 'uninspired', 'conduct', 'paralytic', 'unfold', 'ritual', 'someone', 'another', 'review', 'mention', 'one_thousand_nine_hundred', 'fiftyone', 'bayreuth', 'record', 'knappertsbusch', 'though', 'tempi', 'often', 'slow', 'jordan', 'altogether', 'lack', 'sense', 'pulse', 'feel', 'ebb_flow', 'music', 'half_century', 'orchestral', 'sound', 'set', 'modern', 'press', 'still', 'superior', 'film']\n"
          ],
          "name": "stdout"
        },
        {
          "output_type": "stream",
          "text": [
            "/usr/local/lib/python3.6/dist-packages/gensim/models/phrases.py:598: UserWarning: For a faster implementation, use the gensim.models.phrases.Phraser class\n",
            "  warnings.warn(\"For a faster implementation, use the gensim.models.phrases.Phraser class\")\n"
          ],
          "name": "stderr"
        }
      ]
    },
    {
      "cell_type": "code",
      "metadata": {
        "id": "Vjjqdct1WxHR",
        "colab_type": "code",
        "outputId": "2cf4d156-1c11-4ea5-d5fd-0f506b529164",
        "colab": {
          "base_uri": "https://localhost:8080/",
          "height": 85
        }
      },
      "source": [
        "%%time\n",
        "#Word2Vec MODEL\n",
        "from gensim.models import Word2Vec\n",
        "embedding_vector_size = 200\n",
        "#tokens = word_tokenize(bigrams[revcorpus['processed_review']])\n",
        "wordvec_model = Word2Vec(\n",
        "    sentences = bigrams[reviews],\n",
        "    size = embedding_vector_size,\n",
        "    min_count=3, window=5, workers=4)"
      ],
      "execution_count": 0,
      "outputs": [
        {
          "output_type": "stream",
          "text": [
            "/usr/local/lib/python3.6/dist-packages/gensim/models/phrases.py:598: UserWarning: For a faster implementation, use the gensim.models.phrases.Phraser class\n",
            "  warnings.warn(\"For a faster implementation, use the gensim.models.phrases.Phraser class\")\n"
          ],
          "name": "stderr"
        },
        {
          "output_type": "stream",
          "text": [
            "CPU times: user 14min 57s, sys: 1.63 s, total: 14min 59s\n",
            "Wall time: 10min 29s\n"
          ],
          "name": "stdout"
        }
      ]
    },
    {
      "cell_type": "code",
      "metadata": {
        "id": "KE-gXUkpWxHT",
        "colab_type": "code",
        "outputId": "f5538224-bfd8-4e7b-9522-47b19c600d58",
        "colab": {
          "base_uri": "https://localhost:8080/",
          "height": 275
        }
      },
      "source": [
        "pd.options.display.max_colwidth = 100\n",
        "print(\"Vocabulary size:\", len(wordvec_model.wv.vocab))\n",
        "print(\"Number of reviews: \",len(traindf))\n",
        "#for word in wordvec_model.wv.vocab:\n",
        "#    print((word, wordvec_model.wv.vocab[word].count))\n",
        "wordvec_model.wv.most_similar(\"great\")"
      ],
      "execution_count": 0,
      "outputs": [
        {
          "output_type": "stream",
          "text": [
            "Vocabulary size: 122982\n",
            "Number of reviews:  49912\n"
          ],
          "name": "stdout"
        },
        {
          "output_type": "stream",
          "text": [
            "/usr/local/lib/python3.6/dist-packages/gensim/matutils.py:737: FutureWarning: Conversion of the second argument of issubdtype from `int` to `np.signedinteger` is deprecated. In future, it will be treated as `np.int64 == np.dtype(int).type`.\n",
            "  if np.issubdtype(vec.dtype, np.int):\n"
          ],
          "name": "stderr"
        },
        {
          "output_type": "execute_result",
          "data": {
            "text/plain": [
              "[('fantastic', 0.6986942291259766),\n",
              " ('terrific', 0.6745198965072632),\n",
              " ('excellent', 0.6735690236091614),\n",
              " ('wonderful', 0.669349193572998),\n",
              " ('top_notch', 0.6072121262550354),\n",
              " ('awesome', 0.6037535071372986),\n",
              " ('superb', 0.5867407321929932),\n",
              " ('fabulous', 0.5849272608757019),\n",
              " ('brilliant', 0.5778151750564575),\n",
              " ('tremendous', 0.5561492443084717)]"
            ]
          },
          "metadata": {
            "tags": []
          },
          "execution_count": 110
        }
      ]
    },
    {
      "cell_type": "code",
      "metadata": {
        "id": "Nj7VtolTWxHV",
        "colab_type": "code",
        "outputId": "d24ef505-3046-44fb-e51d-be549629feab",
        "colab": {
          "base_uri": "https://localhost:8080/",
          "height": 68
        }
      },
      "source": [
        "train_reviews = revcorpus[revcorpus['type']==\"train\"][\"processed_review\"]\n",
        "train_reviews = bigrams[train_reviews]\n",
        "#train_reviews = [\" \".join(text) for text in [review for review in train_reviews]]\n",
        "print(len(train_reviews))"
      ],
      "execution_count": 0,
      "outputs": [
        {
          "output_type": "stream",
          "text": [
            "49912\n"
          ],
          "name": "stdout"
        },
        {
          "output_type": "stream",
          "text": [
            "/usr/local/lib/python3.6/dist-packages/gensim/models/phrases.py:598: UserWarning: For a faster implementation, use the gensim.models.phrases.Phraser class\n",
            "  warnings.warn(\"For a faster implementation, use the gensim.models.phrases.Phraser class\")\n"
          ],
          "name": "stderr"
        }
      ]
    },
    {
      "cell_type": "code",
      "metadata": {
        "id": "M7iWUI7TWxHX",
        "colab_type": "code",
        "colab": {}
      },
      "source": [
        "# train_reviews[1]"
      ],
      "execution_count": 0,
      "outputs": []
    },
    {
      "cell_type": "markdown",
      "metadata": {
        "id": "WkFVMvrKWxHZ",
        "colab_type": "text"
      },
      "source": [
        "### Vectorization \n",
        "Converting the words to vectors (Code grabbed from https://www.kaggle.com/alexcherniuk/imdb-review-word2vec-bilstm-99-acc)"
      ]
    },
    {
      "cell_type": "code",
      "metadata": {
        "id": "9hDfsCcCWxHa",
        "colab_type": "code",
        "outputId": "d7e3bcb3-5aa6-4ee1-82db-878264ec3155",
        "colab": {
          "base_uri": "https://localhost:8080/",
          "height": 102
        }
      },
      "source": [
        "%%time\n",
        "from keras.preprocessing.sequence import pad_sequences\n",
        "def vectorize_data(data, vocab: dict) -> list:\n",
        "    print('Vectorize sentences...', end='\\r')\n",
        "    keys = list(vocab.keys())\n",
        "    filter_unknown = lambda word: vocab.get(word, None) is not None\n",
        "    encode = lambda review: list(map(keys.index, filter(filter_unknown, review)))\n",
        "    vectorized = list(map(encode, data))\n",
        "    print('Vectorize sentences... (done)')\n",
        "    return vectorized\n",
        "embed_size = 150\n",
        "X_pad = pad_sequences(\n",
        "    sequences=vectorize_data(train_reviews, vocab=wordvec_model.wv.vocab),\n",
        "    maxlen=embed_size,\n",
        "    padding='post')"
      ],
      "execution_count": 0,
      "outputs": [
        {
          "output_type": "stream",
          "text": [
            "Vectorize sentences...\r"
          ],
          "name": "stdout"
        },
        {
          "output_type": "stream",
          "text": [
            "/usr/local/lib/python3.6/dist-packages/gensim/models/phrases.py:598: UserWarning: For a faster implementation, use the gensim.models.phrases.Phraser class\n",
            "  warnings.warn(\"For a faster implementation, use the gensim.models.phrases.Phraser class\")\n"
          ],
          "name": "stderr"
        },
        {
          "output_type": "stream",
          "text": [
            "Vectorize sentences... (done)\n",
            "CPU times: user 13min 18s, sys: 281 ms, total: 13min 19s\n",
            "Wall time: 13min 20s\n"
          ],
          "name": "stdout"
        }
      ]
    },
    {
      "cell_type": "code",
      "metadata": {
        "id": "84Vj5sBoWxHc",
        "colab_type": "code",
        "outputId": "68282f5c-5d25-407a-e532-17407c86bd31",
        "colab": {
          "base_uri": "https://localhost:8080/",
          "height": 153
        }
      },
      "source": [
        "X_pad[1]"
      ],
      "execution_count": 0,
      "outputs": [
        {
          "output_type": "execute_result",
          "data": {
            "text/plain": [
              "array([137, 138, 139, 140, 118, 141, 142, 143, 144, 145, 146, 147, 148,\n",
              "       149, 150, 151, 126, 107, 152,  51, 153, 154, 155, 156, 157, 158,\n",
              "       159, 124, 160, 161, 162, 163,  59, 164, 165, 159, 166, 167, 168,\n",
              "       169, 170, 104, 171, 172,  85, 173, 174, 175, 176, 103, 177,   4,\n",
              "       118,  81, 178, 179, 180, 181, 182, 183, 184, 185, 186, 187, 188,\n",
              "       189, 190, 191, 192, 193, 194, 195, 196, 197, 198, 199, 200, 201,\n",
              "       202,   4, 203, 204, 205, 206, 207, 208, 209, 210, 211, 200,  39,\n",
              "       212, 213, 214, 215, 216, 217, 218, 219, 220], dtype=int32)"
            ]
          },
          "metadata": {
            "tags": []
          },
          "execution_count": 114
        }
      ]
    },
    {
      "cell_type": "code",
      "metadata": {
        "id": "bWAR1t4rWxHe",
        "colab_type": "code",
        "colab": {}
      },
      "source": [
        "y = revcorpus[revcorpus['type']==\"train\"]['sentiment']\n",
        "#y = traindf['sentiment']"
      ],
      "execution_count": 0,
      "outputs": []
    },
    {
      "cell_type": "code",
      "metadata": {
        "scrolled": true,
        "id": "2pbv0oM_WxHj",
        "colab_type": "code",
        "outputId": "71e07d9a-5b3e-4778-9421-c3bfded505d2",
        "colab": {
          "base_uri": "https://localhost:8080/",
          "height": 136
        }
      },
      "source": [
        "from sklearn.model_selection import train_test_split\n",
        "X_train, X_test, y_train, y_test = train_test_split(X_pad, y, test_size=0.2, shuffle=False)\n",
        "X_test"
      ],
      "execution_count": 0,
      "outputs": [
        {
          "output_type": "execute_result",
          "data": {
            "text/plain": [
              "array([[  828,   953,  3970, ...,     0,     0,     0],\n",
              "       [ 5062,  2626,  1375, ...,     0,     0,     0],\n",
              "       [ 2594,   199,   897, ...,  1245,  3481,    33],\n",
              "       ...,\n",
              "       [  722,    42,  1881, ...,   176,   726, 17068],\n",
              "       [  691,  2678,   752, ...,     0,     0,     0],\n",
              "       [ 7348, 24292,   205, ...,     0,     0,     0]], dtype=int32)"
            ]
          },
          "metadata": {
            "tags": []
          },
          "execution_count": 126
        }
      ]
    },
    {
      "cell_type": "code",
      "metadata": {
        "id": "hi_ZM1JRWxHg",
        "colab_type": "code",
        "outputId": "1b4281b6-d8f3-46f3-cd17-784120c4860e",
        "colab": {
          "base_uri": "https://localhost:8080/",
          "height": 1000
        }
      },
      "source": [
        "# EMBEDDING -> LSTM -> Dropout -> DENSE(RELU) -> DENSE(SIGMOID)\n",
        "from keras.preprocessing.text import Tokenizer\n",
        "from keras.preprocessing.sequence import pad_sequences\n",
        "from keras.layers import Dense , Input , LSTM , Embedding, Dropout , Activation, GRU, Flatten,CuDNNLSTM, CuDNNGRU\n",
        "from keras.layers import Bidirectional, GlobalMaxPool1D\n",
        "from keras.models import Model, Sequential\n",
        "from keras.layers import Convolution1D\n",
        "from keras import initializers, regularizers, constraints, optimizers, layers\n",
        "\n",
        "#embed_size = 150\n",
        "model = Sequential()\n",
        "model.add(Embedding(input_dim=wordvec_model.wv.vectors.shape[0],output_dim=wordvec_model.wv.vectors.shape[1],weights=[wordvec_model.wv.vectors], input_length=embed_size,trainable=True))\n",
        "#model.add(Embedding(max_features,embed_size))\n",
        "model.add(CuDNNLSTM(128))\n",
        "#model.add(GlobalMaxPool1D())\n",
        "model.add(Dropout(0.2))\n",
        "model.add(Dense(64,activation='relu'))\n",
        "model.add(Dropout(0.2))\n",
        "model.add(Dense(1, activation=\"sigmoid\"))\n",
        "model.summary()\n",
        "batch_size = 100\n",
        "epochs = 20\n",
        "model.compile(loss='binary_crossentropy', optimizer='adam', metrics=['accuracy'])\n",
        "\n",
        "es = callbacks.EarlyStopping(monitor='val_acc',\n",
        "                              min_delta=0,\n",
        "                              patience=2,\n",
        "                              verbose=0, mode='auto',restore_best_weights=True)\n",
        "history = model.fit(X_train,y_train, validation_data=(X_test,y_test),batch_size=batch_size, epochs=epochs, callbacks=[es])\n",
        "import matplotlib.pyplot as plt\n",
        "\n",
        "plt.plot(history.history['acc'])\n",
        "plt.plot(history.history['val_acc'])\n",
        "\n",
        "plt.title('model accuracy')\n",
        "plt.ylabel('accuracy')\n",
        "plt.xlabel('epoch')\n",
        "plt.legend(['train','test'], loc='upper left')\n",
        "plt.show()\n",
        "\n",
        "plt.plot(history.history['loss'])\n",
        "plt.plot(history.history['val_loss'])\n",
        "\n",
        "plt.title('model loss')\n",
        "plt.ylabel('loss')\n",
        "plt.xlabel('epoch')\n",
        "plt.legend(['train','test'], loc='upper left')\n",
        "plt.show()\n",
        "loss, acc = model.evaluate(X_test, y_test, batch_size=batch_size)\n",
        "print(\"\\nTest accuracy: %.1f%%\" % (100.0 * acc))"
      ],
      "execution_count": 0,
      "outputs": [
        {
          "output_type": "stream",
          "text": [
            "Model: \"sequential_34\"\n",
            "_________________________________________________________________\n",
            "Layer (type)                 Output Shape              Param #   \n",
            "=================================================================\n",
            "embedding_34 (Embedding)     (None, 150, 200)          24596400  \n",
            "_________________________________________________________________\n",
            "cu_dnnlstm_20 (CuDNNLSTM)    (None, 128)               168960    \n",
            "_________________________________________________________________\n",
            "dropout_68 (Dropout)         (None, 128)               0         \n",
            "_________________________________________________________________\n",
            "dense_69 (Dense)             (None, 64)                8256      \n",
            "_________________________________________________________________\n",
            "dropout_69 (Dropout)         (None, 64)                0         \n",
            "_________________________________________________________________\n",
            "dense_70 (Dense)             (None, 1)                 65        \n",
            "=================================================================\n",
            "Total params: 24,773,681\n",
            "Trainable params: 24,773,681\n",
            "Non-trainable params: 0\n",
            "_________________________________________________________________\n",
            "Train on 39929 samples, validate on 9983 samples\n",
            "Epoch 1/20\n",
            "39929/39929 [==============================] - 32s 794us/step - loss: 0.6119 - acc: 0.6788 - val_loss: 0.4336 - val_acc: 0.8441\n",
            "Epoch 2/20\n",
            "39929/39929 [==============================] - 27s 670us/step - loss: 0.2711 - acc: 0.8949 - val_loss: 0.3832 - val_acc: 0.8551\n",
            "Epoch 3/20\n",
            "39929/39929 [==============================] - 27s 673us/step - loss: 0.0860 - acc: 0.9725 - val_loss: 0.3131 - val_acc: 0.8959\n",
            "Epoch 4/20\n",
            "39929/39929 [==============================] - 27s 666us/step - loss: 0.0266 - acc: 0.9931 - val_loss: 0.2949 - val_acc: 0.9205\n",
            "Epoch 5/20\n",
            "39929/39929 [==============================] - 27s 674us/step - loss: 0.0116 - acc: 0.9974 - val_loss: 0.4150 - val_acc: 0.9021\n",
            "Epoch 6/20\n",
            "39929/39929 [==============================] - 27s 672us/step - loss: 0.0081 - acc: 0.9981 - val_loss: 0.3299 - val_acc: 0.9261\n",
            "Epoch 7/20\n",
            "39929/39929 [==============================] - 27s 673us/step - loss: 0.0085 - acc: 0.9977 - val_loss: 0.3855 - val_acc: 0.9278\n",
            "Epoch 8/20\n",
            "39929/39929 [==============================] - 27s 669us/step - loss: 0.0044 - acc: 0.9988 - val_loss: 0.5006 - val_acc: 0.9198\n",
            "Epoch 9/20\n",
            "39929/39929 [==============================] - 27s 673us/step - loss: 0.0035 - acc: 0.9991 - val_loss: 0.6010 - val_acc: 0.8995\n"
          ],
          "name": "stdout"
        },
        {
          "output_type": "display_data",
          "data": {
            "image/png": "[encoded data removed]",
            "text/plain": [
              "<Figure size 432x288 with 1 Axes>"
            ]
          },
          "metadata": {
            "tags": []
          }
        },
        {
          "output_type": "display_data",
          "data": {
            "image/png": "[encoded data removed]",
            "text/plain": [
              "<Figure size 432x288 with 1 Axes>"
            ]
          },
          "metadata": {
            "tags": []
          }
        },
        {
          "output_type": "stream",
          "text": [
            "9983/9983 [==============================] - 1s 134us/step\n",
            "\n",
            "Test accuracy: 92.8%\n"
          ],
          "name": "stdout"
        }
      ]
    },
    {
      "cell_type": "code",
      "metadata": {
        "id": "Q9HFu2YiYE8H",
        "colab_type": "code",
        "outputId": "90ee2846-ce07-4851-f491-0be142a4e164",
        "colab": {
          "base_uri": "https://localhost:8080/",
          "height": 1000
        }
      },
      "source": [
        "# EMBEDDING -> GRU -> Dropout -> DENSE(RELU) -> DENSE(SIGMOID)\n",
        "from keras.preprocessing.text import Tokenizer\n",
        "from keras.preprocessing.sequence import pad_sequences\n",
        "from keras.layers import Dense , Input , LSTM , Embedding, Dropout , Activation, GRU, Flatten,CuDNNLSTM, CuDNNGRU\n",
        "from keras.layers import Bidirectional, GlobalMaxPool1D\n",
        "from keras.models import Model, Sequential\n",
        "from keras.layers import Convolution1D\n",
        "from keras import initializers, regularizers, constraints, optimizers, layers, callbacks\n",
        "\n",
        "#embed_size = 150\n",
        "model = Sequential()\n",
        "model.add(Embedding(input_dim=wordvec_model.wv.vectors.shape[0],output_dim=wordvec_model.wv.vectors.shape[1],weights=[wordvec_model.wv.vectors], input_length=embed_size,trainable=True))\n",
        "#model.add(Embedding(max_features,embed_size))\n",
        "model.add(CuDNNGRU(128))\n",
        "#model.add(GlobalMaxPool1D())\n",
        "model.add(Dropout(0.1))\n",
        "model.add(Dense(20,activation='relu'))\n",
        "model.add(Dropout(0.05))\n",
        "model.add(Dense(1, activation=\"sigmoid\"))\n",
        "model.summary()\n",
        "batch_size = 100\n",
        "epochs = 20\n",
        "model.compile(loss='binary_crossentropy', optimizer='adam', metrics=['accuracy'])\n",
        "es = callbacks.EarlyStopping(monitor='val_acc',\n",
        "                              min_delta=0,\n",
        "                              patience=2,\n",
        "                              verbose=0, mode='auto',restore_best_weights=True)\n",
        "history = model.fit(X_train,y_train, validation_data=(X_test,y_test),batch_size=batch_size, epochs=epochs, callbacks=[es])\n",
        "import matplotlib.pyplot as plt\n",
        "\n",
        "plt.plot(history.history['acc'])\n",
        "plt.plot(history.history['val_acc'])\n",
        "\n",
        "plt.title('model accuracy')\n",
        "plt.ylabel('accuracy')\n",
        "plt.xlabel('epoch')\n",
        "plt.legend(['train','test'], loc='upper left')\n",
        "plt.show()\n",
        "\n",
        "plt.plot(history.history['loss'])\n",
        "plt.plot(history.history['val_loss'])\n",
        "\n",
        "plt.title('model loss')\n",
        "plt.ylabel('loss')\n",
        "plt.xlabel('epoch')\n",
        "plt.legend(['train','test'], loc='upper left')\n",
        "plt.show()\n",
        "loss, acc = model.evaluate(X_test, y_test, batch_size=batch_size)\n",
        "print(\"\\nTest accuracy: %.1f%%\" % (100.0 * acc))"
      ],
      "execution_count": 0,
      "outputs": [
        {
          "output_type": "stream",
          "text": [
            "Model: \"sequential_35\"\n",
            "_________________________________________________________________\n",
            "Layer (type)                 Output Shape              Param #   \n",
            "=================================================================\n",
            "embedding_35 (Embedding)     (None, 150, 200)          24596400  \n",
            "_________________________________________________________________\n",
            "cu_dnngru_15 (CuDNNGRU)      (None, 128)               126720    \n",
            "_________________________________________________________________\n",
            "dropout_70 (Dropout)         (None, 128)               0         \n",
            "_________________________________________________________________\n",
            "dense_71 (Dense)             (None, 20)                2580      \n",
            "_________________________________________________________________\n",
            "dropout_71 (Dropout)         (None, 20)                0         \n",
            "_________________________________________________________________\n",
            "dense_72 (Dense)             (None, 1)                 21        \n",
            "=================================================================\n",
            "Total params: 24,725,721\n",
            "Trainable params: 24,725,721\n",
            "Non-trainable params: 0\n",
            "_________________________________________________________________\n",
            "Train on 39929 samples, validate on 9983 samples\n",
            "Epoch 1/20\n",
            "39929/39929 [==============================] - 30s 754us/step - loss: 0.5942 - acc: 0.6851 - val_loss: 0.4153 - val_acc: 0.8332\n",
            "Epoch 2/20\n",
            "39929/39929 [==============================] - 25s 623us/step - loss: 0.2345 - acc: 0.9102 - val_loss: 0.1519 - val_acc: 0.9457\n",
            "Epoch 3/20\n",
            "39929/39929 [==============================] - 25s 626us/step - loss: 0.0643 - acc: 0.9801 - val_loss: 0.2783 - val_acc: 0.9024\n",
            "Epoch 4/20\n",
            "39929/39929 [==============================] - 25s 626us/step - loss: 0.0172 - acc: 0.9953 - val_loss: 0.5147 - val_acc: 0.8886\n"
          ],
          "name": "stdout"
        },
        {
          "output_type": "display_data",
          "data": {
            "image/png": "[encoded data removed]",
            "text/plain": [
              "<Figure size 432x288 with 1 Axes>"
            ]
          },
          "metadata": {
            "tags": []
          }
        },
        {
          "output_type": "display_data",
          "data": {
            "image/png": "[encoded data removed]",
            "text/plain": [
              "<Figure size 432x288 with 1 Axes>"
            ]
          },
          "metadata": {
            "tags": []
          }
        },
        {
          "output_type": "stream",
          "text": [
            "9983/9983 [==============================] - 1s 117us/step\n",
            "\n",
            "Test accuracy: 94.6%\n"
          ],
          "name": "stdout"
        }
      ]
    },
    {
      "cell_type": "code",
      "metadata": {
        "id": "vLZIkZawh4Wm",
        "colab_type": "code",
        "outputId": "194403dd-0473-441d-bf80-8b30706efbcb",
        "colab": {
          "base_uri": "https://localhost:8080/",
          "height": 1000
        }
      },
      "source": [
        "# EMBEDDING -> LSTM -> Dropout -> DENSE(RELU) -> DROPOUT -> DENSE(SIGMOID)\n",
        "from keras.preprocessing.text import Tokenizer\n",
        "from keras.preprocessing.sequence import pad_sequences\n",
        "from keras.layers import Dense , Input , LSTM , Embedding, Dropout , Activation, GRU, Flatten,CuDNNLSTM, CuDNNGRU\n",
        "from keras.layers import Bidirectional, GlobalMaxPool1D\n",
        "from keras.models import Model, Sequential\n",
        "from keras.layers import Convolution1D\n",
        "from keras import initializers, regularizers, constraints, optimizers, layers, callbacks\n",
        "\n",
        "embed_size = 150\n",
        "model = Sequential()\n",
        "model.add(Embedding(input_dim=wordvec_model.wv.vectors.shape[0],output_dim=wordvec_model.wv.vectors.shape[1],weights=[wordvec_model.wv.vectors], input_length=embed_size,trainable=True))\n",
        "model.add(CuDNNLSTM(128))\n",
        "model.add(Dropout(0.1))\n",
        "model.add(Dense(64,activation='relu'))\n",
        "model.add(Dropout(0.3))\n",
        "model.add(Dense(1,activation='sigmoid'))\n",
        "model.summary()\n",
        "batch_size = 100\n",
        "epochs = 20\n",
        "model.compile(loss='binary_crossentropy', optimizer='adam', metrics=['accuracy'])\n",
        "es = callbacks.EarlyStopping(monitor='val_acc',\n",
        "                              min_delta=0,\n",
        "                              patience=2,\n",
        "                              verbose=0, mode='auto',restore_best_weights=True)\n",
        "history = model.fit(X_train,y_train, validation_data=(X_test,y_test),batch_size=batch_size, epochs=epochs, callbacks=[es])\n",
        "import matplotlib.pyplot as plt\n",
        "\n",
        "plt.plot(history.history['acc'])\n",
        "plt.plot(history.history['val_acc'])\n",
        "\n",
        "plt.title('model accuracy')\n",
        "plt.ylabel('accuracy')\n",
        "plt.xlabel('epoch')\n",
        "plt.legend(['train','test'], loc='upper left')\n",
        "plt.show()\n",
        "\n",
        "plt.plot(history.history['loss'])\n",
        "plt.plot(history.history['val_loss'])\n",
        "\n",
        "plt.title('model loss')\n",
        "plt.ylabel('loss')\n",
        "plt.xlabel('epoch')\n",
        "plt.legend(['train','test'], loc='upper left')\n",
        "plt.show()\n",
        "loss, acc = model.evaluate(X_test, y_test, batch_size=batch_size)\n",
        "print(\"\\nTest accuracy: %.1f%%\" % (100.0 * acc))"
      ],
      "execution_count": 0,
      "outputs": [
        {
          "output_type": "stream",
          "text": [
            "Model: \"sequential_27\"\n",
            "_________________________________________________________________\n",
            "Layer (type)                 Output Shape              Param #   \n",
            "=================================================================\n",
            "embedding_27 (Embedding)     (None, 150, 300)          24795600  \n",
            "_________________________________________________________________\n",
            "cu_dnnlstm_13 (CuDNNLSTM)    (None, 128)               220160    \n",
            "_________________________________________________________________\n",
            "dropout_53 (Dropout)         (None, 128)               0         \n",
            "_________________________________________________________________\n",
            "dense_54 (Dense)             (None, 64)                8256      \n",
            "_________________________________________________________________\n",
            "dropout_54 (Dropout)         (None, 64)                0         \n",
            "_________________________________________________________________\n",
            "dense_55 (Dense)             (None, 1)                 65        \n",
            "=================================================================\n",
            "Total params: 25,024,081\n",
            "Trainable params: 25,024,081\n",
            "Non-trainable params: 0\n",
            "_________________________________________________________________\n",
            "Train on 39929 samples, validate on 9983 samples\n",
            "Epoch 1/20\n",
            "39929/39929 [==============================] - 32s 798us/step - loss: 0.5253 - acc: 0.7370 - val_loss: 0.3769 - val_acc: 0.8702\n",
            "Epoch 2/20\n",
            "39929/39929 [==============================] - 28s 704us/step - loss: 0.2298 - acc: 0.9142 - val_loss: 0.2664 - val_acc: 0.9091\n",
            "Epoch 3/20\n",
            "39929/39929 [==============================] - 28s 706us/step - loss: 0.0990 - acc: 0.9682 - val_loss: 0.3214 - val_acc: 0.9008\n",
            "Epoch 4/20\n",
            "39929/39929 [==============================] - 28s 704us/step - loss: 0.0462 - acc: 0.9869 - val_loss: 0.3634 - val_acc: 0.9040\n"
          ],
          "name": "stdout"
        },
        {
          "output_type": "display_data",
          "data": {
            "image/png": "[encoded data removed]",
            "text/plain": [
              "<Figure size 432x288 with 1 Axes>"
            ]
          },
          "metadata": {
            "tags": []
          }
        },
        {
          "output_type": "display_data",
          "data": {
            "image/png": "[encoded data removed]",
            "text/plain": [
              "<Figure size 432x288 with 1 Axes>"
            ]
          },
          "metadata": {
            "tags": []
          }
        },
        {
          "output_type": "stream",
          "text": [
            "9983/9983 [==============================] - 1s 149us/step\n",
            "\n",
            "Test accuracy: 90.9%\n"
          ],
          "name": "stdout"
        }
      ]
    },
    {
      "cell_type": "code",
      "metadata": {
        "id": "InrTk9n5WxHr",
        "colab_type": "code",
        "outputId": "2e8a151d-44ef-43de-cab7-6a1e6fb31d6c",
        "colab": {
          "base_uri": "https://localhost:8080/",
          "height": 414
        }
      },
      "source": [
        "imdb=pd.read_csv(filepath+\"imdb_master.csv\",encoding=\"latin-1\")\n",
        "imdb = imdb[imdb.type==\"test\"]\n",
        "imdb['label'] = imdb['label'].map({'neg':0,'pos':1})\n",
        "imdb['processed_review'] = imdb.review.apply(lambda x: preprocess_text(x))  \n",
        "\n",
        "print(imdb.info())\n",
        "imdb.head(3)"
      ],
      "execution_count": 0,
      "outputs": [
        {
          "output_type": "stream",
          "text": [
            "<class 'pandas.core.frame.DataFrame'>\n",
            "Int64Index: 25000 entries, 0 to 24999\n",
            "Data columns (total 6 columns):\n",
            "Unnamed: 0          25000 non-null int64\n",
            "type                25000 non-null object\n",
            "review              25000 non-null object\n",
            "label               25000 non-null int64\n",
            "file                25000 non-null object\n",
            "processed_review    25000 non-null object\n",
            "dtypes: int64(2), object(4)\n",
            "memory usage: 1.3+ MB\n",
            "None\n"
          ],
          "name": "stdout"
        },
        {
          "output_type": "execute_result",
          "data": {
            "text/html": [
              "<div>\n",
              "<style scoped>\n",
              "    .dataframe tbody tr th:only-of-type {\n",
              "        vertical-align: middle;\n",
              "    }\n",
              "\n",
              "    .dataframe tbody tr th {\n",
              "        vertical-align: top;\n",
              "    }\n",
              "\n",
              "    .dataframe thead th {\n",
              "        text-align: right;\n",
              "    }\n",
              "</style>\n",
              "<table border=\"1\" class=\"dataframe\">\n",
              "  <thead>\n",
              "    <tr style=\"text-align: right;\">\n",
              "      <th></th>\n",
              "      <th>Unnamed: 0</th>\n",
              "      <th>type</th>\n",
              "      <th>review</th>\n",
              "      <th>label</th>\n",
              "      <th>file</th>\n",
              "      <th>processed_review</th>\n",
              "    </tr>\n",
              "  </thead>\n",
              "  <tbody>\n",
              "    <tr>\n",
              "      <th>0</th>\n",
              "      <td>0</td>\n",
              "      <td>test</td>\n",
              "      <td>Once again Mr. Costner has dragged out a movie for far longer than necessary. Aside from the ter...</td>\n",
              "      <td>0</td>\n",
              "      <td>0_2.txt</td>\n",
              "      <td>[mr, costner, drag, movie, far, longer, necessary, aside, terrific, sea, rescue, sequence, care,...</td>\n",
              "    </tr>\n",
              "    <tr>\n",
              "      <th>1</th>\n",
              "      <td>1</td>\n",
              "      <td>test</td>\n",
              "      <td>This is an example of why the majority of action films are the same. Generic and boring, there's...</td>\n",
              "      <td>0</td>\n",
              "      <td>10000_4.txt</td>\n",
              "      <td>[example, majority, action, film, generic, bore, theres, really, nothing, worth, watch, complete...</td>\n",
              "    </tr>\n",
              "    <tr>\n",
              "      <th>2</th>\n",
              "      <td>2</td>\n",
              "      <td>test</td>\n",
              "      <td>First of all I hate those moronic rappers, who could'nt act if they had a gun pressed against th...</td>\n",
              "      <td>0</td>\n",
              "      <td>10001_1.txt</td>\n",
              "      <td>[first, hate, moronic, rappers, couldnt, act, gun, press, foreheads, curse, shoot, act, like, cl...</td>\n",
              "    </tr>\n",
              "  </tbody>\n",
              "</table>\n",
              "</div>"
            ],
            "text/plain": [
              "   Unnamed: 0  ...                                                                                     processed_review\n",
              "0           0  ...  [mr, costner, drag, movie, far, longer, necessary, aside, terrific, sea, rescue, sequence, care,...\n",
              "1           1  ...  [example, majority, action, film, generic, bore, theres, really, nothing, worth, watch, complete...\n",
              "2           2  ...  [first, hate, moronic, rappers, couldnt, act, gun, press, foreheads, curse, shoot, act, like, cl...\n",
              "\n",
              "[3 rows x 6 columns]"
            ]
          },
          "metadata": {
            "tags": []
          },
          "execution_count": 97
        }
      ]
    },
    {
      "cell_type": "code",
      "metadata": {
        "id": "ei1qJGktWxHu",
        "colab_type": "code",
        "outputId": "684345f6-cc53-4ef1-dcdb-ddb63441a92d",
        "colab": {
          "base_uri": "https://localhost:8080/",
          "height": 89
        }
      },
      "source": [
        "X_test2 = pad_sequences(\n",
        "    sequences=vectorize_data(bigrams[imdb['processed_review']], vocab=wordvec_model.wv.vocab),\n",
        "    maxlen=embed_size,\n",
        "    padding='post')"
      ],
      "execution_count": 131,
      "outputs": [
        {
          "output_type": "stream",
          "text": [
            "/usr/local/lib/python3.6/dist-packages/gensim/models/phrases.py:598: UserWarning: For a faster implementation, use the gensim.models.phrases.Phraser class\n",
            "  warnings.warn(\"For a faster implementation, use the gensim.models.phrases.Phraser class\")\n"
          ],
          "name": "stderr"
        },
        {
          "output_type": "stream",
          "text": [
            "Vectorize sentences...\rVectorize sentences... (done)\n"
          ],
          "name": "stdout"
        }
      ]
    },
    {
      "cell_type": "code",
      "metadata": {
        "id": "bzoyKA0MWxHx",
        "colab_type": "code",
        "colab": {}
      },
      "source": [
        "y_test2 = imdb['label']"
      ],
      "execution_count": 0,
      "outputs": []
    },
    {
      "cell_type": "code",
      "metadata": {
        "id": "p8wG4PDrWxHz",
        "colab_type": "code",
        "outputId": "a0973460-f222-4f06-efdb-805a1e9e3f6e",
        "colab": {
          "base_uri": "https://localhost:8080/",
          "height": 69
        }
      },
      "source": [
        "loss, acc = model.evaluate(X_test2, y_test2, batch_size=batch_size)\n",
        "print(\"\\nTest accuracy: %.1f%%\" % (100.0 * acc))"
      ],
      "execution_count": 133,
      "outputs": [
        {
          "output_type": "stream",
          "text": [
            "25000/25000 [==============================] - 3s 125us/step\n",
            "\n",
            "Test accuracy: 93.4%\n"
          ],
          "name": "stdout"
        }
      ]
    },
    {
      "cell_type": "code",
      "metadata": {
        "id": "GMK_ihyxWxH1",
        "colab_type": "code",
        "colab": {
          "base_uri": "https://localhost:8080/",
          "height": 89
        },
        "outputId": "9cf59392-6833-4745-ff51-0a17d2691d6f"
      },
      "source": [
        "#SUBMISSION DATA\n",
        "subdf = pd.read_csv(filepath+'testData.tsv',sep='\\t')\n",
        "subdf['processed_review'] = subdf.review.apply(lambda x: preprocess_text(x))  \n",
        "X_sub = pad_sequences(\n",
        "    sequences=vectorize_data(bigrams[subdf['processed_review']], vocab=wordvec_model.wv.vocab),\n",
        "    maxlen=embed_size,\n",
        "    padding='post')\n",
        "Y_sub = model.predict_classes(X_sub)\n",
        "subdf['sentiment'] = Y_sub\n",
        "subdf.to_csv(filepath+'submission.csv',columns=['id','sentiment'],index=False)"
      ],
      "execution_count": 139,
      "outputs": [
        {
          "output_type": "stream",
          "text": [
            "/usr/local/lib/python3.6/dist-packages/gensim/models/phrases.py:598: UserWarning: For a faster implementation, use the gensim.models.phrases.Phraser class\n",
            "  warnings.warn(\"For a faster implementation, use the gensim.models.phrases.Phraser class\")\n"
          ],
          "name": "stderr"
        },
        {
          "output_type": "stream",
          "text": [
            "Vectorize sentences...\rVectorize sentences... (done)\n"
          ],
          "name": "stdout"
        }
      ]
    },
    {
      "cell_type": "code",
      "metadata": {
        "id": "Ukp-giJoM52d",
        "colab_type": "code",
        "colab": {
          "base_uri": "https://localhost:8080/",
          "height": 35
        },
        "outputId": "05178af4-13db-41db-e10d-fa72dfc10820"
      },
      "source": [
        "from google.colab import drive\n",
        "drive.mount('/content/drive')"
      ],
      "execution_count": 138,
      "outputs": [
        {
          "output_type": "stream",
          "text": [
            "Mounted at /content/drive\n"
          ],
          "name": "stdout"
        }
      ]
    },
    {
      "cell_type": "code",
      "metadata": {
        "id": "d7jOSJ31MerT",
        "colab_type": "code",
        "colab": {}
      },
      "source": [
        ""
      ],
      "execution_count": 0,
      "outputs": []
    }
  ]
}