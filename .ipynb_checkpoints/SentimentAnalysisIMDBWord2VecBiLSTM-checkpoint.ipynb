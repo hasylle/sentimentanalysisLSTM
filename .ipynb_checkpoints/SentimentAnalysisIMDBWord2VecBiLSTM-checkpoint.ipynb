{
 "cells": [
  {
   "cell_type": "code",
   "execution_count": 113,
   "metadata": {
    "scrolled": true
   },
   "outputs": [
    {
     "name": "stderr",
     "output_type": "stream",
     "text": [
      "b'Skipping line 43043: expected 2 fields, saw 3\\n'\n",
      "C:\\Users\\Ellysah\\Anaconda3\\envs\\keras-gpu\\lib\\site-packages\\ipykernel_launcher.py:11: FutureWarning: Sorting because non-concatenation axis is not aligned. A future version\n",
      "of pandas will change to not sort by default.\n",
      "\n",
      "To accept the future behavior, pass 'sort=False'.\n",
      "\n",
      "To retain the current behavior and silence the warning, pass 'sort=True'.\n",
      "\n",
      "  # This is added back by InteractiveShellApp.init_path()\n"
     ]
    }
   ],
   "source": [
    "import pandas as pd\n",
    "pd.options.display.max_colwidth = 10\n",
    "traindf=[]\n",
    "traindf = pd.read_csv('labeledTrainData.tsv', delimiter=\"\\t\")\n",
    "traindf = traindf.drop(['id'], axis=1)\n",
    "traindf['type'] = 'train'\n",
    "addtldf=[]\n",
    "addtldf = pd.read_csv('unlabeledTrainData.tsv',error_bad_lines=False,delimiter=\"\\t\")\n",
    "addtldf = addtldf.drop(['id'], axis=1)\n",
    "addtldf['type'] = 'addtl'\n",
    "revcorpus = pd.concat([traindf,addtldf],ignore_index=True)\n",
    "#print(\"Number of reviews: \",len(revcorpus))"
   ]
  },
  {
   "cell_type": "code",
   "execution_count": 145,
   "metadata": {},
   "outputs": [
    {
     "name": "stdout",
     "output_type": "stream",
     "text": [
      "Number of reviews:  74998\n"
     ]
    },
    {
     "data": {
      "text/html": [
       "<div>\n",
       "<style scoped>\n",
       "    .dataframe tbody tr th:only-of-type {\n",
       "        vertical-align: middle;\n",
       "    }\n",
       "\n",
       "    .dataframe tbody tr th {\n",
       "        vertical-align: top;\n",
       "    }\n",
       "\n",
       "    .dataframe thead th {\n",
       "        text-align: right;\n",
       "    }\n",
       "</style>\n",
       "<table border=\"1\" class=\"dataframe\">\n",
       "  <thead>\n",
       "    <tr style=\"text-align: right;\">\n",
       "      <th></th>\n",
       "      <th>review</th>\n",
       "      <th>sentiment</th>\n",
       "      <th>type</th>\n",
       "      <th>processed_review</th>\n",
       "      <th>bigrams</th>\n",
       "    </tr>\n",
       "  </thead>\n",
       "  <tbody>\n",
       "    <tr>\n",
       "      <td>0</td>\n",
       "      <td>With all this stuff going down at the moment with MJ i've started listening to his music, watching the odd documentary here and there, watched The Wiz and watched Moonwalker again. Maybe i just want to get a certain insight into this guy who i thought was really cool in the eighties just to maybe make up my mind whether he is guilty or innocent. Moonwalker is part biography, part feature film which i remember going to see at the cinema when it was originally released. Some of it has subtle messages about MJ's feeling towards the press and also the obvious message of drugs are bad m'kay.&lt;br /&gt;&lt;br /&gt;Visually impressive but of course this is all about Michael Jackson so unless you remotely like MJ in anyway then you are going to hate this and find it boring. Some may call MJ an egotist for consenting to the making of this movie BUT MJ and most of his fans would say that he made it for the fans which if true is really nice of him.&lt;br /&gt;&lt;br /&gt;The actual feature film bit when it finally starts is only on for 20 minutes or so excluding the Smooth Criminal sequence and Joe Pesci is convincing as a psychopathic all powerful drug lord. Why he wants MJ dead so bad is beyond me. Because MJ overheard his plans? Nah, Joe Pesci's character ranted that he wanted people to know it is he who is supplying drugs etc so i dunno, maybe he just hates MJ's music.&lt;br /&gt;&lt;br /&gt;Lots of cool things in this like MJ turning into a car and a robot and the whole Speed Demon sequence. Also, the director must have had the patience of a saint when it came to filming the kiddy Bad sequence as usually directors hate working with one kid let alone a whole bunch of them performing a complex dance scene.&lt;br /&gt;&lt;br /&gt;Bottom line, this movie is for people who like MJ on one level or another (which i think is most people). If not, then stay away. It does try and give off a wholesome message and ironically MJ's bestest buddy in this movie is a girl! Michael Jackson is truly one of the most talented people ever to grace this planet but is he guilty? Well, with all the attention i've gave this subject....hmmm well i don't know because people can be different behind closed doors, i know this for a fact. He is either an extremely nice but stupid guy or one of the most sickest liars. I hope he is not the latter.</td>\n",
       "      <td>1.0</td>\n",
       "      <td>train</td>\n",
       "      <td>stuff go moment mj ive start listen music watch odd documentary watch wiz watch moonwalker maybe want get certain insight guy think really cool eighties maybe make mind whether guilty innocent moonwalker part biography part feature film remember go see cinema originally release subtle message mjs feel towards press also obvious message drug bad mkaybr br visually impressive course michael jackson unless remotely like mj anyway go hate find bore may call mj egotist consent make movie mj fan would say make fan true really nice himbr br actual feature film bite finally start twenty minutes exclude smooth criminal sequence joe pesci convince psychopathic powerful drug lord want mj dead bad beyond mj overhear plan nah joe pescis character rant want people know supply drug etc dunno maybe hat mjs musicbr br lot cool things like mj turn car robot whole speed demon sequence also director must patience saint come film kiddy bad sequence usually directors hate work one kid let alone whole bunch perform complex dance scenebr br bottom line movie people like mj one level another think people stay away try give wholesome message ironically mjs bestest buddy movie girl michael jackson truly one talented people ever grace planet guilty well attention ive give subjecthmmm well dont know people different behind close doors know fact either extremely nice stupid guy one sickest liars hope latter</td>\n",
       "      <td>[(stuff, go), (go, moment), (moment, mj), (mj, ive), (ive, start), (start, listen), (listen, music), (music, watch), (watch, odd), (odd, documentary), (documentary, watch), (watch, wiz), (wiz, watch), (watch, moonwalker), (moonwalker, maybe), (maybe, want), (want, get), (get, certain), (certain, insight), (insight, guy), (guy, think), (think, really), (really, cool), (cool, eighties), (eighties, maybe), (maybe, make), (make, mind), (mind, whether), (whether, guilty), (guilty, innocent), (innocent, moonwalker), (moonwalker, part), (part, biography), (biography, part), (part, feature), (feature, film), (film, remember), (remember, go), (go, see), (see, cinema), (cinema, originally), (originally, release), (release, subtle), (subtle, message), (message, mjs), (mjs, feel), (feel, towards), (towards, press), (press, also), (also, obvious), (obvious, message), (message, drug), (drug, bad), (bad, mkaybr), (mkaybr, br), (br, visually), (visually, impressive), (impressive, course), (course, michael), (michael, jackson), (jackson, unless), (unless, remotely), (remotely, like), (like, mj), (mj, anyway), (anyway, go), (go, hate), (hate, find), (find, bore), (bore, may), (may, call), (call, mj), (mj, egotist), (egotist, consent), (consent, make), (make, movie), (movie, mj), (mj, fan), (fan, would), (would, say), (say, make), (make, fan), (fan, true), (true, really), (really, nice), (nice, himbr), (himbr, br), (br, actual), (actual, feature), (feature, film), (film, bite), (bite, finally), (finally, start), (start, twenty), (twenty, minutes), (minutes, exclude), (exclude, smooth), (smooth, criminal), (criminal, sequence), (sequence, joe), ...]</td>\n",
       "    </tr>\n",
       "    <tr>\n",
       "      <td>1</td>\n",
       "      <td>\\The Classic War of the Worlds\\\" by Timothy Hines is a very entertaining film that obviously goes to great effort and lengths to faithfully recreate H. G. Wells' classic book. Mr. Hines succeeds in doing so. I, and those who watched his film with me, appreciated the fact that it was not the standard, predictable Hollywood fare that comes out every year, e.g. the Spielberg version with Tom Cruise that had only the slightest resemblance to the book. Obviously, everyone looks for different things in a movie. Those who envision themselves as amateur \\\"critics\\\" look only to criticize everything they can. Others rate a movie on more important bases,like being entertained, which is why most people never agree with the \\\"critics\\\". We enjoyed the effort Mr. Hines put into being faithful to H.G. Wells' classic novel, and we found it to be very entertaining. This made it easy to overlook what the \\\"critics\\\" perceive to be its shortcomings.\"</td>\n",
       "      <td>1.0</td>\n",
       "      <td>train</td>\n",
       "      <td>classic war worlds timothy hines entertain film obviously go great effort lengths faithfully recreate h g well classic book mr hines succeed watch film appreciate fact standard predictable hollywood fare come every year eg spielberg version tom cruise slightest resemblance book obviously everyone look different things movie envision amateur critics look criticize everything others rate movie important baseslike entertain people never agree critics enjoy effort mr hines put faithful hg well classic novel find entertain make easy overlook critics perceive shortcomings</td>\n",
       "      <td>[(classic, war), (war, worlds), (worlds, timothy), (timothy, hines), (hines, entertain), (entertain, film), (film, obviously), (obviously, go), (go, great), (great, effort), (effort, lengths), (lengths, faithfully), (faithfully, recreate), (recreate, h), (h, g), (g, well), (well, classic), (classic, book), (book, mr), (mr, hines), (hines, succeed), (succeed, watch), (watch, film), (film, appreciate), (appreciate, fact), (fact, standard), (standard, predictable), (predictable, hollywood), (hollywood, fare), (fare, come), (come, every), (every, year), (year, eg), (eg, spielberg), (spielberg, version), (version, tom), (tom, cruise), (cruise, slightest), (slightest, resemblance), (resemblance, book), (book, obviously), (obviously, everyone), (everyone, look), (look, different), (different, things), (things, movie), (movie, envision), (envision, amateur), (amateur, critics), (critics, look), (look, criticize), (criticize, everything), (everything, others), (others, rate), (rate, movie), (movie, important), (important, baseslike), (baseslike, entertain), (entertain, people), (people, never), (never, agree), (agree, critics), (critics, enjoy), (enjoy, effort), (effort, mr), (mr, hines), (hines, put), (put, faithful), (faithful, hg), (hg, well), (well, classic), (classic, novel), (novel, find), (find, entertain), (entertain, make), (make, easy), (easy, overlook), (overlook, critics), (critics, perceive), (perceive, shortcomings)]</td>\n",
       "    </tr>\n",
       "    <tr>\n",
       "      <td>2</td>\n",
       "      <td>The film starts with a manager (Nicholas Bell) giving welcome investors (Robert Carradine) to Primal Park . A secret project mutating a primal animal using fossilized DNA, like ¨Jurassik Park¨, and some scientists resurrect one of nature's most fearsome predators, the Sabretooth tiger or Smilodon . Scientific ambition turns deadly, however, and when the high voltage fence is opened the creature escape and begins savagely stalking its prey - the human visitors , tourists and scientific.Meanwhile some youngsters enter in the restricted area of the security center and are attacked by a pack of large pre-historical animals which are deadlier and bigger . In addition , a security agent (Stacy Haiduk) and her mate (Brian Wimmer) fight hardly against the carnivorous Smilodons. The Sabretooths, themselves , of course, are the real star stars and they are astounding terrifyingly though not convincing. The giant animals savagely are stalking its prey and the group run afoul and fight against one nature's most fearsome predators. Furthermore a third Sabretooth more dangerous and slow stalks its victims.&lt;br /&gt;&lt;br /&gt;The movie delivers the goods with lots of blood and gore as beheading, hair-raising chills,full of scares when the Sabretooths appear with mediocre special effects.The story provides exciting and stirring entertainment but it results to be quite boring .The giant animals are majority made by computer generator and seem totally lousy .Middling performances though the players reacting appropriately to becoming food.Actors give vigorously physical performances dodging the beasts ,running,bound and leaps or dangling over walls . And it packs a ridiculous final deadly scene. No for small kids by realistic,gory and violent attack scenes . Other films about Sabretooths or Smilodon are the following : ¨Sabretooth(2002)¨by James R Hickox with Vanessa Angel, David Keith and John Rhys Davies and the much better ¨10.000 BC(2006)¨ by Roland Emmerich with with Steven Strait, Cliff Curtis and Camilla Belle. This motion picture filled with bloody moments is badly directed by George Miller and with no originality because takes too many elements from previous films. Miller is an Australian director usually working for television (Tidal wave, Journey to the center of the earth, and many others) and occasionally for cinema ( The man from Snowy river, Zeus and Roxanne,Robinson Crusoe ). Rating : Below average, bottom of barrel.</td>\n",
       "      <td>0.0</td>\n",
       "      <td>train</td>\n",
       "      <td>film start manager nicholas bell give welcome investors robert carradine primal park secret project mutate primal animal use fossilize dna like ¨jurassik park¨ scientists resurrect one natures fearsome predators sabretooth tiger smilodon scientific ambition turn deadly however high voltage fence open creature escape begin savagely stalk prey human visitors tourists scientificmeanwhile youngsters enter restrict area security center attack pack large prehistorical animals deadlier bigger addition security agent stacy haiduk mate brian wimmer fight hardly carnivorous smilodons sabretooths course real star star astound terrifyingly though convince giant animals savagely stalk prey group run afoul fight one natures fearsome predators furthermore third sabretooth dangerous slow stalk victimsbr br movie deliver goods lot blood gore behead hairraising chillsfull scar sabretooths appear mediocre special effectsthe story provide excite stir entertainment result quite bore giant animals majority make computer generator seem totally lousy middle performances though players react appropriately become foodactors give vigorously physical performances dodge beasts runningbound leap dangle wall pack ridiculous final deadly scene small kid realisticgory violent attack scenes film sabretooths smilodon follow ¨sabretooth2002¨by jam r hickox vanessa angel david keith john rhys davies much better ¨10000 bc2006¨ roland emmerich steven strait cliff curtis camilla belle motion picture fill bloody moments badly direct george miller originality take many elements previous film miller australian director usually work television tidal wave journey center earth many others occasionally cinema man snowy river zeus roxannerobinson crusoe rat average bottom barrel</td>\n",
       "      <td>[(film, start), (start, manager), (manager, nicholas), (nicholas, bell), (bell, give), (give, welcome), (welcome, investors), (investors, robert), (robert, carradine), (carradine, primal), (primal, park), (park, secret), (secret, project), (project, mutate), (mutate, primal), (primal, animal), (animal, use), (use, fossilize), (fossilize, dna), (dna, like), (like, jurassik), (jurassik, park), (park, scientists), (scientists, resurrect), (resurrect, one), (one, natures), (natures, fearsome), (fearsome, predators), (predators, sabretooth), (sabretooth, tiger), (tiger, smilodon), (smilodon, scientific), (scientific, ambition), (ambition, turn), (turn, deadly), (deadly, however), (however, high), (high, voltage), (voltage, fence), (fence, open), (open, creature), (creature, escape), (escape, begin), (begin, savagely), (savagely, stalk), (stalk, prey), (prey, human), (human, visitors), (visitors, tourists), (tourists, scientificmeanwhile), (scientificmeanwhile, youngsters), (youngsters, enter), (enter, restrict), (restrict, area), (area, security), (security, center), (center, attack), (attack, pack), (pack, large), (large, prehistorical), (prehistorical, animals), (animals, deadlier), (deadlier, bigger), (bigger, addition), (addition, security), (security, agent), (agent, stacy), (stacy, haiduk), (haiduk, mate), (mate, brian), (brian, wimmer), (wimmer, fight), (fight, hardly), (hardly, carnivorous), (carnivorous, smilodons), (smilodons, sabretooths), (sabretooths, course), (course, real), (real, star), (star, star), (star, astound), (astound, terrifyingly), (terrifyingly, though), (though, convince), (convince, giant), (giant, animals), (animals, savagely), (savagely, stalk), (stalk, prey), (prey, group), (group, run), (run, afoul), (afoul, fight), (fight, one), (one, natures), (natures, fearsome), (fearsome, predators), (predators, furthermore), (furthermore, third), (third, sabretooth), ...]</td>\n",
       "    </tr>\n",
       "  </tbody>\n",
       "</table>\n",
       "</div>"
      ],
      "text/plain": [
       "                                                                                                                                                                                                                                                                                                                                                                                                                                                                                                                                                                                                                                                                                                                                                                                                                                                                                                                                                                                                                                                                                                                                                                                                                                                                                                                                                                                                                                                                                                                                                                                                                                                                                                                                                                                                                                                                                                                                                                                                                                                                                                                                                                                                                                                                                                                                                                                                                                                                                                                                              review  \\\n",
       "0                                                                                                                                                     With all this stuff going down at the moment with MJ i've started listening to his music, watching the odd documentary here and there, watched The Wiz and watched Moonwalker again. Maybe i just want to get a certain insight into this guy who i thought was really cool in the eighties just to maybe make up my mind whether he is guilty or innocent. Moonwalker is part biography, part feature film which i remember going to see at the cinema when it was originally released. Some of it has subtle messages about MJ's feeling towards the press and also the obvious message of drugs are bad m'kay.<br /><br />Visually impressive but of course this is all about Michael Jackson so unless you remotely like MJ in anyway then you are going to hate this and find it boring. Some may call MJ an egotist for consenting to the making of this movie BUT MJ and most of his fans would say that he made it for the fans which if true is really nice of him.<br /><br />The actual feature film bit when it finally starts is only on for 20 minutes or so excluding the Smooth Criminal sequence and Joe Pesci is convincing as a psychopathic all powerful drug lord. Why he wants MJ dead so bad is beyond me. Because MJ overheard his plans? Nah, Joe Pesci's character ranted that he wanted people to know it is he who is supplying drugs etc so i dunno, maybe he just hates MJ's music.<br /><br />Lots of cool things in this like MJ turning into a car and a robot and the whole Speed Demon sequence. Also, the director must have had the patience of a saint when it came to filming the kiddy Bad sequence as usually directors hate working with one kid let alone a whole bunch of them performing a complex dance scene.<br /><br />Bottom line, this movie is for people who like MJ on one level or another (which i think is most people). If not, then stay away. It does try and give off a wholesome message and ironically MJ's bestest buddy in this movie is a girl! Michael Jackson is truly one of the most talented people ever to grace this planet but is he guilty? Well, with all the attention i've gave this subject....hmmm well i don't know because people can be different behind closed doors, i know this for a fact. He is either an extremely nice but stupid guy or one of the most sickest liars. I hope he is not the latter.   \n",
       "1                                                                                                                                                                                                                                                                                                                                                                                                                                                                                                                                                                                                                                                                                                                                                                                                                                                                                                                                                                                                                                                                                                                                                                                                                                                                                                                                                                                                                                                                                                                                                                 \\The Classic War of the Worlds\\\" by Timothy Hines is a very entertaining film that obviously goes to great effort and lengths to faithfully recreate H. G. Wells' classic book. Mr. Hines succeeds in doing so. I, and those who watched his film with me, appreciated the fact that it was not the standard, predictable Hollywood fare that comes out every year, e.g. the Spielberg version with Tom Cruise that had only the slightest resemblance to the book. Obviously, everyone looks for different things in a movie. Those who envision themselves as amateur \\\"critics\\\" look only to criticize everything they can. Others rate a movie on more important bases,like being entertained, which is why most people never agree with the \\\"critics\\\". We enjoyed the effort Mr. Hines put into being faithful to H.G. Wells' classic novel, and we found it to be very entertaining. This made it easy to overlook what the \\\"critics\\\" perceive to be its shortcomings.\"   \n",
       "2  The film starts with a manager (Nicholas Bell) giving welcome investors (Robert Carradine) to Primal Park . A secret project mutating a primal animal using fossilized DNA, like ¨Jurassik Park¨, and some scientists resurrect one of nature's most fearsome predators, the Sabretooth tiger or Smilodon . Scientific ambition turns deadly, however, and when the high voltage fence is opened the creature escape and begins savagely stalking its prey - the human visitors , tourists and scientific.Meanwhile some youngsters enter in the restricted area of the security center and are attacked by a pack of large pre-historical animals which are deadlier and bigger . In addition , a security agent (Stacy Haiduk) and her mate (Brian Wimmer) fight hardly against the carnivorous Smilodons. The Sabretooths, themselves , of course, are the real star stars and they are astounding terrifyingly though not convincing. The giant animals savagely are stalking its prey and the group run afoul and fight against one nature's most fearsome predators. Furthermore a third Sabretooth more dangerous and slow stalks its victims.<br /><br />The movie delivers the goods with lots of blood and gore as beheading, hair-raising chills,full of scares when the Sabretooths appear with mediocre special effects.The story provides exciting and stirring entertainment but it results to be quite boring .The giant animals are majority made by computer generator and seem totally lousy .Middling performances though the players reacting appropriately to becoming food.Actors give vigorously physical performances dodging the beasts ,running,bound and leaps or dangling over walls . And it packs a ridiculous final deadly scene. No for small kids by realistic,gory and violent attack scenes . Other films about Sabretooths or Smilodon are the following : ¨Sabretooth(2002)¨by James R Hickox with Vanessa Angel, David Keith and John Rhys Davies and the much better ¨10.000 BC(2006)¨ by Roland Emmerich with with Steven Strait, Cliff Curtis and Camilla Belle. This motion picture filled with bloody moments is badly directed by George Miller and with no originality because takes too many elements from previous films. Miller is an Australian director usually working for television (Tidal wave, Journey to the center of the earth, and many others) and occasionally for cinema ( The man from Snowy river, Zeus and Roxanne,Robinson Crusoe ). Rating : Below average, bottom of barrel.   \n",
       "\n",
       "   sentiment   type  \\\n",
       "0        1.0  train   \n",
       "1        1.0  train   \n",
       "2        0.0  train   \n",
       "\n",
       "                                                                                                                                                                                                                                                                                                                                                                                                                                                                                                                                                                                                                                                                                                                                                                                                                                                                                                                                                                                                                                                                                                                                                                                                                                                                                                                                                                                                                                                                                                                                                                                                                                                                                                                                                                                                                    processed_review  \\\n",
       "0                                                                                                                                                                                                                                                                                                                                                                           stuff go moment mj ive start listen music watch odd documentary watch wiz watch moonwalker maybe want get certain insight guy think really cool eighties maybe make mind whether guilty innocent moonwalker part biography part feature film remember go see cinema originally release subtle message mjs feel towards press also obvious message drug bad mkaybr br visually impressive course michael jackson unless remotely like mj anyway go hate find bore may call mj egotist consent make movie mj fan would say make fan true really nice himbr br actual feature film bite finally start twenty minutes exclude smooth criminal sequence joe pesci convince psychopathic powerful drug lord want mj dead bad beyond mj overhear plan nah joe pescis character rant want people know supply drug etc dunno maybe hat mjs musicbr br lot cool things like mj turn car robot whole speed demon sequence also director must patience saint come film kiddy bad sequence usually directors hate work one kid let alone whole bunch perform complex dance scenebr br bottom line movie people like mj one level another think people stay away try give wholesome message ironically mjs bestest buddy movie girl michael jackson truly one talented people ever grace planet guilty well attention ive give subjecthmmm well dont know people different behind close doors know fact either extremely nice stupid guy one sickest liars hope latter   \n",
       "1                                                                                                                                                                                                                                                                                                                                                                                                                                                                                                                                                                                                                                                                                                                                                                                                                                                                                                                                                                                                                                                                                                                                                                                                                                       classic war worlds timothy hines entertain film obviously go great effort lengths faithfully recreate h g well classic book mr hines succeed watch film appreciate fact standard predictable hollywood fare come every year eg spielberg version tom cruise slightest resemblance book obviously everyone look different things movie envision amateur critics look criticize everything others rate movie important baseslike entertain people never agree critics enjoy effort mr hines put faithful hg well classic novel find entertain make easy overlook critics perceive shortcomings   \n",
       "2  film start manager nicholas bell give welcome investors robert carradine primal park secret project mutate primal animal use fossilize dna like ¨jurassik park¨ scientists resurrect one natures fearsome predators sabretooth tiger smilodon scientific ambition turn deadly however high voltage fence open creature escape begin savagely stalk prey human visitors tourists scientificmeanwhile youngsters enter restrict area security center attack pack large prehistorical animals deadlier bigger addition security agent stacy haiduk mate brian wimmer fight hardly carnivorous smilodons sabretooths course real star star astound terrifyingly though convince giant animals savagely stalk prey group run afoul fight one natures fearsome predators furthermore third sabretooth dangerous slow stalk victimsbr br movie deliver goods lot blood gore behead hairraising chillsfull scar sabretooths appear mediocre special effectsthe story provide excite stir entertainment result quite bore giant animals majority make computer generator seem totally lousy middle performances though players react appropriately become foodactors give vigorously physical performances dodge beasts runningbound leap dangle wall pack ridiculous final deadly scene small kid realisticgory violent attack scenes film sabretooths smilodon follow ¨sabretooth2002¨by jam r hickox vanessa angel david keith john rhys davies much better ¨10000 bc2006¨ roland emmerich steven strait cliff curtis camilla belle motion picture fill bloody moments badly direct george miller originality take many elements previous film miller australian director usually work television tidal wave journey center earth many others occasionally cinema man snowy river zeus roxannerobinson crusoe rat average bottom barrel   \n",
       "\n",
       "                                                                                                                                                                                                                                                                                                                                                                                                                                                                                                                                                                                                                                                                                                                                                                                                                                                                                                                                                                                                                                                                                                                                                                                                                                                                                                                                                                                                                                                                                                                                                                                                                                                                                                                                                                                                                                                                                                                                                                                             bigrams  \n",
       "0                                                                                                                                                                                                                                                                          [(stuff, go), (go, moment), (moment, mj), (mj, ive), (ive, start), (start, listen), (listen, music), (music, watch), (watch, odd), (odd, documentary), (documentary, watch), (watch, wiz), (wiz, watch), (watch, moonwalker), (moonwalker, maybe), (maybe, want), (want, get), (get, certain), (certain, insight), (insight, guy), (guy, think), (think, really), (really, cool), (cool, eighties), (eighties, maybe), (maybe, make), (make, mind), (mind, whether), (whether, guilty), (guilty, innocent), (innocent, moonwalker), (moonwalker, part), (part, biography), (biography, part), (part, feature), (feature, film), (film, remember), (remember, go), (go, see), (see, cinema), (cinema, originally), (originally, release), (release, subtle), (subtle, message), (message, mjs), (mjs, feel), (feel, towards), (towards, press), (press, also), (also, obvious), (obvious, message), (message, drug), (drug, bad), (bad, mkaybr), (mkaybr, br), (br, visually), (visually, impressive), (impressive, course), (course, michael), (michael, jackson), (jackson, unless), (unless, remotely), (remotely, like), (like, mj), (mj, anyway), (anyway, go), (go, hate), (hate, find), (find, bore), (bore, may), (may, call), (call, mj), (mj, egotist), (egotist, consent), (consent, make), (make, movie), (movie, mj), (mj, fan), (fan, would), (would, say), (say, make), (make, fan), (fan, true), (true, really), (really, nice), (nice, himbr), (himbr, br), (br, actual), (actual, feature), (feature, film), (film, bite), (bite, finally), (finally, start), (start, twenty), (twenty, minutes), (minutes, exclude), (exclude, smooth), (smooth, criminal), (criminal, sequence), (sequence, joe), ...]  \n",
       "1                                                                                                                                                                                                                                                                                                                                                                                                                                                                                              [(classic, war), (war, worlds), (worlds, timothy), (timothy, hines), (hines, entertain), (entertain, film), (film, obviously), (obviously, go), (go, great), (great, effort), (effort, lengths), (lengths, faithfully), (faithfully, recreate), (recreate, h), (h, g), (g, well), (well, classic), (classic, book), (book, mr), (mr, hines), (hines, succeed), (succeed, watch), (watch, film), (film, appreciate), (appreciate, fact), (fact, standard), (standard, predictable), (predictable, hollywood), (hollywood, fare), (fare, come), (come, every), (every, year), (year, eg), (eg, spielberg), (spielberg, version), (version, tom), (tom, cruise), (cruise, slightest), (slightest, resemblance), (resemblance, book), (book, obviously), (obviously, everyone), (everyone, look), (look, different), (different, things), (things, movie), (movie, envision), (envision, amateur), (amateur, critics), (critics, look), (look, criticize), (criticize, everything), (everything, others), (others, rate), (rate, movie), (movie, important), (important, baseslike), (baseslike, entertain), (entertain, people), (people, never), (never, agree), (agree, critics), (critics, enjoy), (enjoy, effort), (effort, mr), (mr, hines), (hines, put), (put, faithful), (faithful, hg), (hg, well), (well, classic), (classic, novel), (novel, find), (find, entertain), (entertain, make), (make, easy), (easy, overlook), (overlook, critics), (critics, perceive), (perceive, shortcomings)]  \n",
       "2  [(film, start), (start, manager), (manager, nicholas), (nicholas, bell), (bell, give), (give, welcome), (welcome, investors), (investors, robert), (robert, carradine), (carradine, primal), (primal, park), (park, secret), (secret, project), (project, mutate), (mutate, primal), (primal, animal), (animal, use), (use, fossilize), (fossilize, dna), (dna, like), (like, jurassik), (jurassik, park), (park, scientists), (scientists, resurrect), (resurrect, one), (one, natures), (natures, fearsome), (fearsome, predators), (predators, sabretooth), (sabretooth, tiger), (tiger, smilodon), (smilodon, scientific), (scientific, ambition), (ambition, turn), (turn, deadly), (deadly, however), (however, high), (high, voltage), (voltage, fence), (fence, open), (open, creature), (creature, escape), (escape, begin), (begin, savagely), (savagely, stalk), (stalk, prey), (prey, human), (human, visitors), (visitors, tourists), (tourists, scientificmeanwhile), (scientificmeanwhile, youngsters), (youngsters, enter), (enter, restrict), (restrict, area), (area, security), (security, center), (center, attack), (attack, pack), (pack, large), (large, prehistorical), (prehistorical, animals), (animals, deadlier), (deadlier, bigger), (bigger, addition), (addition, security), (security, agent), (agent, stacy), (stacy, haiduk), (haiduk, mate), (mate, brian), (brian, wimmer), (wimmer, fight), (fight, hardly), (hardly, carnivorous), (carnivorous, smilodons), (smilodons, sabretooths), (sabretooths, course), (course, real), (real, star), (star, star), (star, astound), (astound, terrifyingly), (terrifyingly, though), (though, convince), (convince, giant), (giant, animals), (animals, savagely), (savagely, stalk), (stalk, prey), (prey, group), (group, run), (run, afoul), (afoul, fight), (fight, one), (one, natures), (natures, fearsome), (fearsome, predators), (predators, furthermore), (furthermore, third), (third, sabretooth), ...]  "
      ]
     },
     "execution_count": 145,
     "metadata": {},
     "output_type": "execute_result"
    }
   ],
   "source": [
    "import re\n",
    "import string\n",
    "# import the inflect library \n",
    "import inflect \n",
    "from nltk.stem import WordNetLemmatizer\n",
    "from nltk.corpus import stopwords\n",
    "from nltk.tokenize import word_tokenize \n",
    "from nltk.stem.porter import PorterStemmer \n",
    "from sklearn.feature_extraction.text import CountVectorizer\n",
    "from nltk.util import ngrams,bigrams\n",
    "from nltk import FreqDist\n",
    "from bs4 import BeautifulSoup\n",
    "\n",
    "\n",
    "stemmer = PorterStemmer() \n",
    "p = inflect.engine() \n",
    "stop_words = set(stopwords.words(\"english\")) \n",
    "# extract pure text from html\n",
    "def remove_tags(text):\n",
    "    soup = BeautifulSoup(text)\n",
    "    text = soup.get_text()\n",
    "    return text\n",
    "# remove stopwords function \n",
    "def remove_stopwords(text): \n",
    "    word_tokens = word_tokenize(text) \n",
    "    filtered_text = [word for word in word_tokens if word not in stop_words] \n",
    "    filtered_text = \" \".join(filtered_text)\n",
    "    return filtered_text \n",
    "\n",
    "def text_lowercase(text): \n",
    "    return text.lower() \n",
    "  \n",
    "# convert number into words \n",
    "def convert_number(text): \n",
    "    # split string into list of words \n",
    "    temp_str = text.split() \n",
    "    # initialise empty list \n",
    "    new_string = [] \n",
    "  \n",
    "    for word in temp_str: \n",
    "        # if word is a digit, convert the digit \n",
    "        # to numbers and append into the new_string list \n",
    "        if word.isdigit(): \n",
    "            temp = p.number_to_words(word) \n",
    "            new_string.append(temp) \n",
    "  \n",
    "        # append the word as it is \n",
    "        else: \n",
    "            new_string.append(word) \n",
    "  \n",
    "    # join the words of new_string to form a string \n",
    "    temp_str = ' '.join(new_string) \n",
    "    return temp_str\n",
    "\n",
    "# remove punctuation \n",
    "def remove_punctuation(text): \n",
    "    \n",
    "    translator = str.maketrans('', '', string.punctuation) \n",
    "    return text.translate(translator)\n",
    "\n",
    "# remove whitespace from text \n",
    "def remove_whitespace(text): \n",
    "    return  \" \".join(text.split()) \n",
    "\n",
    "lemmatizer = WordNetLemmatizer() \n",
    "# lemmatize string \n",
    "def lemmatize_word(text): \n",
    "    word_tokens = word_tokenize(text) \n",
    "    # provide context i.e. part-of-speech \n",
    "    lemmas = [lemmatizer.lemmatize(word, pos ='v') for word in word_tokens] \n",
    "    lemmas = \" \".join(lemmas)\n",
    "    return lemmas \n",
    "# stem words in the list of tokenised words \n",
    "def stem_words(text): \n",
    "    word_tokens = word_tokenize(text) \n",
    "    stems = [stemmer.stem(word) for word in word_tokens] \n",
    "    stems = \" \".join(stems)\n",
    "    return stems \n",
    "\n",
    "def generate_ngram(text,n):\n",
    "    text = re.sub(r'[^a-zA-Z0-9\\s]', ' ', text)\n",
    "    tokens = word_tokenize(text) \n",
    "    output = list(ngrams(tokens, n))\n",
    "    #output = bigrams(tokens)\n",
    "    return output\n",
    "\n",
    "def preprocess_text(text):\n",
    "    text = text_lowercase(text)\n",
    "    text = convert_number(text)\n",
    "    text = remove_punctuation(text)\n",
    "    text = remove_whitespace(text)\n",
    "    text = remove_stopwords(text)\n",
    "    text = extract_text_from_html(text)\n",
    "    #text = stem_words(text)\n",
    "    #text = ngram_vector(text)\n",
    "    #print(text)\n",
    "    text = lemmatize_word(text)\n",
    "    return text\n",
    "\n",
    "#revcorpus = revcorpus[1:10]\n",
    "revcorpus['processed_review'] = revcorpus.review.apply(lambda x: preprocess_text(x))  \n",
    "revcorpus['bigrams'] = revcorpus.processed_review.apply(lambda x:generate_ngram(x,2))\n",
    "print(\"Number of reviews: \",len(revcorpus))\n",
    "revcorpus.head(3)\n",
    "#traindf['processed_review'] = traindf.review.apply(lambda x: preprocess_text(x))  \n",
    "#print(\"Number of reviews: \",len(traindf))\n",
    "#traindf.head(3)"
   ]
  },
  {
   "cell_type": "code",
   "execution_count": 130,
   "metadata": {},
   "outputs": [
    {
     "ename": "KeyboardInterrupt",
     "evalue": "",
     "output_type": "error",
     "traceback": [
      "\u001b[1;31m---------------------------------------------------------------------------\u001b[0m",
      "\u001b[1;31mKeyboardInterrupt\u001b[0m                         Traceback (most recent call last)",
      "\u001b[1;32m<ipython-input-130-2ca6a05f050d>\u001b[0m in \u001b[0;36m<module>\u001b[1;34m\u001b[0m\n\u001b[0;32m      3\u001b[0m \u001b[0mall_bigrams\u001b[0m \u001b[1;33m=\u001b[0m \u001b[0mlist\u001b[0m\u001b[1;33m(\u001b[0m\u001b[1;33m)\u001b[0m\u001b[1;33m\u001b[0m\u001b[1;33m\u001b[0m\u001b[0m\n\u001b[0;32m      4\u001b[0m \u001b[1;32mfor\u001b[0m \u001b[0mbigram\u001b[0m \u001b[1;32min\u001b[0m \u001b[0mrevcorpus\u001b[0m\u001b[1;33m[\u001b[0m\u001b[1;34m'bigrams'\u001b[0m\u001b[1;33m]\u001b[0m\u001b[1;33m:\u001b[0m\u001b[1;33m\u001b[0m\u001b[1;33m\u001b[0m\u001b[0m\n\u001b[1;32m----> 5\u001b[1;33m     \u001b[0mall_bigrams\u001b[0m \u001b[1;33m=\u001b[0m \u001b[0mall_bigrams\u001b[0m \u001b[1;33m+\u001b[0m \u001b[0mbigram\u001b[0m\u001b[1;33m\u001b[0m\u001b[1;33m\u001b[0m\u001b[0m\n\u001b[0m\u001b[0;32m      6\u001b[0m \u001b[0mfdist\u001b[0m \u001b[1;33m=\u001b[0m \u001b[0mFreqDist\u001b[0m\u001b[1;33m(\u001b[0m\u001b[0mall_bigrams\u001b[0m\u001b[1;33m)\u001b[0m\u001b[1;33m\u001b[0m\u001b[1;33m\u001b[0m\u001b[0m\n\u001b[0;32m      7\u001b[0m \u001b[0mfdist\u001b[0m\u001b[1;33m.\u001b[0m\u001b[0mmost_common\u001b[0m\u001b[1;33m(\u001b[0m\u001b[1;36m10\u001b[0m\u001b[1;33m)\u001b[0m\u001b[1;33m\u001b[0m\u001b[1;33m\u001b[0m\u001b[0m\n",
      "\u001b[1;31mKeyboardInterrupt\u001b[0m: "
     ]
    }
   ],
   "source": [
    "from nltk import FreqDist\n",
    "pd.options.display.max_colwidth = 10000\n",
    "all_bigrams = list()\n",
    "for bigram in revcorpus['bigrams']:\n",
    "    all_bigrams = all_bigrams + bigram\n",
    "fdist = FreqDist(all_bigrams)\n",
    "fdist.most_common(10)"
   ]
  },
  {
   "cell_type": "code",
   "execution_count": 133,
   "metadata": {},
   "outputs": [],
   "source": [
    "from gensim.models import Phrases\n",
    "reviews = revcorpus['processed_review']\n",
    "bigrams = Phrases(sentences=reviews)"
   ]
  },
  {
   "cell_type": "code",
   "execution_count": 138,
   "metadata": {},
   "outputs": [
    {
     "name": "stdout",
     "output_type": "stream",
     "text": [
      "dont know people think bad movie get pretty good plot good action change location harry hurt either sure offensive gratuitous movie like eastwood good form dirty harry like pat hingle movie small town cop like dirty harry see one lot better dead pool 45\n"
     ]
    }
   ],
   "source": [
    "print(bigrams[revcorpus['processed_review']][5])"
   ]
  },
  {
   "cell_type": "code",
   "execution_count": 5,
   "metadata": {
    "scrolled": false
   },
   "outputs": [],
   "source": [
    "#BAG OF WORDS MODEL\n",
    "from keras.preprocessing.sequence import pad_sequences\n",
    "from keras.preprocessing.text import Tokenizer\n",
    "max_features = 3000\n",
    "tokenizer = Tokenizer(num_words=max_features)\n",
    "tokenizer.fit_on_texts(traindf['review'])\n",
    "list_tokenized_train = tokenizer.texts_to_sequences(traindf['review'])\n",
    "maxlen = 200\n",
    "X_pad = pad_sequences(list_tokenized_train, maxlen=maxlen)"
   ]
  },
  {
   "cell_type": "code",
   "execution_count": 144,
   "metadata": {},
   "outputs": [
    {
     "ename": "TypeError",
     "evalue": "expected string or bytes-like object",
     "output_type": "error",
     "traceback": [
      "\u001b[1;31m---------------------------------------------------------------------------\u001b[0m",
      "\u001b[1;31mTypeError\u001b[0m                                 Traceback (most recent call last)",
      "\u001b[1;32m<ipython-input-144-6ae52104a031>\u001b[0m in \u001b[0;36m<module>\u001b[1;34m\u001b[0m\n\u001b[0;32m      2\u001b[0m \u001b[1;32mfrom\u001b[0m \u001b[0mgensim\u001b[0m\u001b[1;33m.\u001b[0m\u001b[0mmodels\u001b[0m \u001b[1;32mimport\u001b[0m \u001b[0mWord2Vec\u001b[0m\u001b[1;33m\u001b[0m\u001b[1;33m\u001b[0m\u001b[0m\n\u001b[0;32m      3\u001b[0m \u001b[0membedding_vector_size\u001b[0m \u001b[1;33m=\u001b[0m \u001b[1;36m300\u001b[0m\u001b[1;33m\u001b[0m\u001b[1;33m\u001b[0m\u001b[0m\n\u001b[1;32m----> 4\u001b[1;33m \u001b[0mtokens\u001b[0m \u001b[1;33m=\u001b[0m \u001b[0mword_tokenize\u001b[0m\u001b[1;33m(\u001b[0m\u001b[0mbigrams\u001b[0m\u001b[1;33m[\u001b[0m\u001b[0mrevcorpus\u001b[0m\u001b[1;33m[\u001b[0m\u001b[1;34m'processed_review'\u001b[0m\u001b[1;33m]\u001b[0m\u001b[1;33m]\u001b[0m\u001b[1;33m)\u001b[0m\u001b[1;33m\u001b[0m\u001b[1;33m\u001b[0m\u001b[0m\n\u001b[0m\u001b[0;32m      5\u001b[0m wordvec_model = Word2Vec(\n\u001b[0;32m      6\u001b[0m     \u001b[0msentences\u001b[0m \u001b[1;33m=\u001b[0m \u001b[0mtokens\u001b[0m\u001b[1;33m,\u001b[0m\u001b[1;33m\u001b[0m\u001b[1;33m\u001b[0m\u001b[0m\n",
      "\u001b[1;32m~\\Anaconda3\\envs\\keras-gpu\\lib\\site-packages\\nltk\\tokenize\\__init__.py\u001b[0m in \u001b[0;36mword_tokenize\u001b[1;34m(text, language, preserve_line)\u001b[0m\n\u001b[0;32m    142\u001b[0m     \u001b[1;33m:\u001b[0m\u001b[0mtype\u001b[0m \u001b[0mpreserve_line\u001b[0m\u001b[1;33m:\u001b[0m \u001b[0mbool\u001b[0m\u001b[1;33m\u001b[0m\u001b[1;33m\u001b[0m\u001b[0m\n\u001b[0;32m    143\u001b[0m     \"\"\"\n\u001b[1;32m--> 144\u001b[1;33m     \u001b[0msentences\u001b[0m \u001b[1;33m=\u001b[0m \u001b[1;33m[\u001b[0m\u001b[0mtext\u001b[0m\u001b[1;33m]\u001b[0m \u001b[1;32mif\u001b[0m \u001b[0mpreserve_line\u001b[0m \u001b[1;32melse\u001b[0m \u001b[0msent_tokenize\u001b[0m\u001b[1;33m(\u001b[0m\u001b[0mtext\u001b[0m\u001b[1;33m,\u001b[0m \u001b[0mlanguage\u001b[0m\u001b[1;33m)\u001b[0m\u001b[1;33m\u001b[0m\u001b[1;33m\u001b[0m\u001b[0m\n\u001b[0m\u001b[0;32m    145\u001b[0m     return [\n\u001b[0;32m    146\u001b[0m         \u001b[0mtoken\u001b[0m \u001b[1;32mfor\u001b[0m \u001b[0msent\u001b[0m \u001b[1;32min\u001b[0m \u001b[0msentences\u001b[0m \u001b[1;32mfor\u001b[0m \u001b[0mtoken\u001b[0m \u001b[1;32min\u001b[0m \u001b[0m_treebank_word_tokenizer\u001b[0m\u001b[1;33m.\u001b[0m\u001b[0mtokenize\u001b[0m\u001b[1;33m(\u001b[0m\u001b[0msent\u001b[0m\u001b[1;33m)\u001b[0m\u001b[1;33m\u001b[0m\u001b[1;33m\u001b[0m\u001b[0m\n",
      "\u001b[1;32m~\\Anaconda3\\envs\\keras-gpu\\lib\\site-packages\\nltk\\tokenize\\__init__.py\u001b[0m in \u001b[0;36msent_tokenize\u001b[1;34m(text, language)\u001b[0m\n\u001b[0;32m    104\u001b[0m     \"\"\"\n\u001b[0;32m    105\u001b[0m     \u001b[0mtokenizer\u001b[0m \u001b[1;33m=\u001b[0m \u001b[0mload\u001b[0m\u001b[1;33m(\u001b[0m\u001b[1;34m'tokenizers/punkt/{0}.pickle'\u001b[0m\u001b[1;33m.\u001b[0m\u001b[0mformat\u001b[0m\u001b[1;33m(\u001b[0m\u001b[0mlanguage\u001b[0m\u001b[1;33m)\u001b[0m\u001b[1;33m)\u001b[0m\u001b[1;33m\u001b[0m\u001b[1;33m\u001b[0m\u001b[0m\n\u001b[1;32m--> 106\u001b[1;33m     \u001b[1;32mreturn\u001b[0m \u001b[0mtokenizer\u001b[0m\u001b[1;33m.\u001b[0m\u001b[0mtokenize\u001b[0m\u001b[1;33m(\u001b[0m\u001b[0mtext\u001b[0m\u001b[1;33m)\u001b[0m\u001b[1;33m\u001b[0m\u001b[1;33m\u001b[0m\u001b[0m\n\u001b[0m\u001b[0;32m    107\u001b[0m \u001b[1;33m\u001b[0m\u001b[0m\n\u001b[0;32m    108\u001b[0m \u001b[1;33m\u001b[0m\u001b[0m\n",
      "\u001b[1;32m~\\Anaconda3\\envs\\keras-gpu\\lib\\site-packages\\nltk\\tokenize\\punkt.py\u001b[0m in \u001b[0;36mtokenize\u001b[1;34m(self, text, realign_boundaries)\u001b[0m\n\u001b[0;32m   1275\u001b[0m         \u001b[0mGiven\u001b[0m \u001b[0ma\u001b[0m \u001b[0mtext\u001b[0m\u001b[1;33m,\u001b[0m \u001b[0mreturns\u001b[0m \u001b[0ma\u001b[0m \u001b[0mlist\u001b[0m \u001b[0mof\u001b[0m \u001b[0mthe\u001b[0m \u001b[0msentences\u001b[0m \u001b[1;32min\u001b[0m \u001b[0mthat\u001b[0m \u001b[0mtext\u001b[0m\u001b[1;33m.\u001b[0m\u001b[1;33m\u001b[0m\u001b[1;33m\u001b[0m\u001b[0m\n\u001b[0;32m   1276\u001b[0m         \"\"\"\n\u001b[1;32m-> 1277\u001b[1;33m         \u001b[1;32mreturn\u001b[0m \u001b[0mlist\u001b[0m\u001b[1;33m(\u001b[0m\u001b[0mself\u001b[0m\u001b[1;33m.\u001b[0m\u001b[0msentences_from_text\u001b[0m\u001b[1;33m(\u001b[0m\u001b[0mtext\u001b[0m\u001b[1;33m,\u001b[0m \u001b[0mrealign_boundaries\u001b[0m\u001b[1;33m)\u001b[0m\u001b[1;33m)\u001b[0m\u001b[1;33m\u001b[0m\u001b[1;33m\u001b[0m\u001b[0m\n\u001b[0m\u001b[0;32m   1278\u001b[0m \u001b[1;33m\u001b[0m\u001b[0m\n\u001b[0;32m   1279\u001b[0m     \u001b[1;32mdef\u001b[0m \u001b[0mdebug_decisions\u001b[0m\u001b[1;33m(\u001b[0m\u001b[0mself\u001b[0m\u001b[1;33m,\u001b[0m \u001b[0mtext\u001b[0m\u001b[1;33m)\u001b[0m\u001b[1;33m:\u001b[0m\u001b[1;33m\u001b[0m\u001b[1;33m\u001b[0m\u001b[0m\n",
      "\u001b[1;32m~\\Anaconda3\\envs\\keras-gpu\\lib\\site-packages\\nltk\\tokenize\\punkt.py\u001b[0m in \u001b[0;36msentences_from_text\u001b[1;34m(self, text, realign_boundaries)\u001b[0m\n\u001b[0;32m   1329\u001b[0m         \u001b[0mfollows\u001b[0m \u001b[0mthe\u001b[0m \u001b[0mperiod\u001b[0m\u001b[1;33m.\u001b[0m\u001b[1;33m\u001b[0m\u001b[1;33m\u001b[0m\u001b[0m\n\u001b[0;32m   1330\u001b[0m         \"\"\"\n\u001b[1;32m-> 1331\u001b[1;33m         \u001b[1;32mreturn\u001b[0m \u001b[1;33m[\u001b[0m\u001b[0mtext\u001b[0m\u001b[1;33m[\u001b[0m\u001b[0ms\u001b[0m\u001b[1;33m:\u001b[0m\u001b[0me\u001b[0m\u001b[1;33m]\u001b[0m \u001b[1;32mfor\u001b[0m \u001b[0ms\u001b[0m\u001b[1;33m,\u001b[0m \u001b[0me\u001b[0m \u001b[1;32min\u001b[0m \u001b[0mself\u001b[0m\u001b[1;33m.\u001b[0m\u001b[0mspan_tokenize\u001b[0m\u001b[1;33m(\u001b[0m\u001b[0mtext\u001b[0m\u001b[1;33m,\u001b[0m \u001b[0mrealign_boundaries\u001b[0m\u001b[1;33m)\u001b[0m\u001b[1;33m]\u001b[0m\u001b[1;33m\u001b[0m\u001b[1;33m\u001b[0m\u001b[0m\n\u001b[0m\u001b[0;32m   1332\u001b[0m \u001b[1;33m\u001b[0m\u001b[0m\n\u001b[0;32m   1333\u001b[0m     \u001b[1;32mdef\u001b[0m \u001b[0m_slices_from_text\u001b[0m\u001b[1;33m(\u001b[0m\u001b[0mself\u001b[0m\u001b[1;33m,\u001b[0m \u001b[0mtext\u001b[0m\u001b[1;33m)\u001b[0m\u001b[1;33m:\u001b[0m\u001b[1;33m\u001b[0m\u001b[1;33m\u001b[0m\u001b[0m\n",
      "\u001b[1;32m~\\Anaconda3\\envs\\keras-gpu\\lib\\site-packages\\nltk\\tokenize\\punkt.py\u001b[0m in \u001b[0;36m<listcomp>\u001b[1;34m(.0)\u001b[0m\n\u001b[0;32m   1329\u001b[0m         \u001b[0mfollows\u001b[0m \u001b[0mthe\u001b[0m \u001b[0mperiod\u001b[0m\u001b[1;33m.\u001b[0m\u001b[1;33m\u001b[0m\u001b[1;33m\u001b[0m\u001b[0m\n\u001b[0;32m   1330\u001b[0m         \"\"\"\n\u001b[1;32m-> 1331\u001b[1;33m         \u001b[1;32mreturn\u001b[0m \u001b[1;33m[\u001b[0m\u001b[0mtext\u001b[0m\u001b[1;33m[\u001b[0m\u001b[0ms\u001b[0m\u001b[1;33m:\u001b[0m\u001b[0me\u001b[0m\u001b[1;33m]\u001b[0m \u001b[1;32mfor\u001b[0m \u001b[0ms\u001b[0m\u001b[1;33m,\u001b[0m \u001b[0me\u001b[0m \u001b[1;32min\u001b[0m \u001b[0mself\u001b[0m\u001b[1;33m.\u001b[0m\u001b[0mspan_tokenize\u001b[0m\u001b[1;33m(\u001b[0m\u001b[0mtext\u001b[0m\u001b[1;33m,\u001b[0m \u001b[0mrealign_boundaries\u001b[0m\u001b[1;33m)\u001b[0m\u001b[1;33m]\u001b[0m\u001b[1;33m\u001b[0m\u001b[1;33m\u001b[0m\u001b[0m\n\u001b[0m\u001b[0;32m   1332\u001b[0m \u001b[1;33m\u001b[0m\u001b[0m\n\u001b[0;32m   1333\u001b[0m     \u001b[1;32mdef\u001b[0m \u001b[0m_slices_from_text\u001b[0m\u001b[1;33m(\u001b[0m\u001b[0mself\u001b[0m\u001b[1;33m,\u001b[0m \u001b[0mtext\u001b[0m\u001b[1;33m)\u001b[0m\u001b[1;33m:\u001b[0m\u001b[1;33m\u001b[0m\u001b[1;33m\u001b[0m\u001b[0m\n",
      "\u001b[1;32m~\\Anaconda3\\envs\\keras-gpu\\lib\\site-packages\\nltk\\tokenize\\punkt.py\u001b[0m in \u001b[0;36mspan_tokenize\u001b[1;34m(self, text, realign_boundaries)\u001b[0m\n\u001b[0;32m   1319\u001b[0m         \u001b[1;32mif\u001b[0m \u001b[0mrealign_boundaries\u001b[0m\u001b[1;33m:\u001b[0m\u001b[1;33m\u001b[0m\u001b[1;33m\u001b[0m\u001b[0m\n\u001b[0;32m   1320\u001b[0m             \u001b[0mslices\u001b[0m \u001b[1;33m=\u001b[0m \u001b[0mself\u001b[0m\u001b[1;33m.\u001b[0m\u001b[0m_realign_boundaries\u001b[0m\u001b[1;33m(\u001b[0m\u001b[0mtext\u001b[0m\u001b[1;33m,\u001b[0m \u001b[0mslices\u001b[0m\u001b[1;33m)\u001b[0m\u001b[1;33m\u001b[0m\u001b[1;33m\u001b[0m\u001b[0m\n\u001b[1;32m-> 1321\u001b[1;33m         \u001b[1;32mfor\u001b[0m \u001b[0msl\u001b[0m \u001b[1;32min\u001b[0m \u001b[0mslices\u001b[0m\u001b[1;33m:\u001b[0m\u001b[1;33m\u001b[0m\u001b[1;33m\u001b[0m\u001b[0m\n\u001b[0m\u001b[0;32m   1322\u001b[0m             \u001b[1;32myield\u001b[0m \u001b[1;33m(\u001b[0m\u001b[0msl\u001b[0m\u001b[1;33m.\u001b[0m\u001b[0mstart\u001b[0m\u001b[1;33m,\u001b[0m \u001b[0msl\u001b[0m\u001b[1;33m.\u001b[0m\u001b[0mstop\u001b[0m\u001b[1;33m)\u001b[0m\u001b[1;33m\u001b[0m\u001b[1;33m\u001b[0m\u001b[0m\n\u001b[0;32m   1323\u001b[0m \u001b[1;33m\u001b[0m\u001b[0m\n",
      "\u001b[1;32m~\\Anaconda3\\envs\\keras-gpu\\lib\\site-packages\\nltk\\tokenize\\punkt.py\u001b[0m in \u001b[0;36m_realign_boundaries\u001b[1;34m(self, text, slices)\u001b[0m\n\u001b[0;32m   1360\u001b[0m         \"\"\"\n\u001b[0;32m   1361\u001b[0m         \u001b[0mrealign\u001b[0m \u001b[1;33m=\u001b[0m \u001b[1;36m0\u001b[0m\u001b[1;33m\u001b[0m\u001b[1;33m\u001b[0m\u001b[0m\n\u001b[1;32m-> 1362\u001b[1;33m         \u001b[1;32mfor\u001b[0m \u001b[0msl1\u001b[0m\u001b[1;33m,\u001b[0m \u001b[0msl2\u001b[0m \u001b[1;32min\u001b[0m \u001b[0m_pair_iter\u001b[0m\u001b[1;33m(\u001b[0m\u001b[0mslices\u001b[0m\u001b[1;33m)\u001b[0m\u001b[1;33m:\u001b[0m\u001b[1;33m\u001b[0m\u001b[1;33m\u001b[0m\u001b[0m\n\u001b[0m\u001b[0;32m   1363\u001b[0m             \u001b[0msl1\u001b[0m \u001b[1;33m=\u001b[0m \u001b[0mslice\u001b[0m\u001b[1;33m(\u001b[0m\u001b[0msl1\u001b[0m\u001b[1;33m.\u001b[0m\u001b[0mstart\u001b[0m \u001b[1;33m+\u001b[0m \u001b[0mrealign\u001b[0m\u001b[1;33m,\u001b[0m \u001b[0msl1\u001b[0m\u001b[1;33m.\u001b[0m\u001b[0mstop\u001b[0m\u001b[1;33m)\u001b[0m\u001b[1;33m\u001b[0m\u001b[1;33m\u001b[0m\u001b[0m\n\u001b[0;32m   1364\u001b[0m             \u001b[1;32mif\u001b[0m \u001b[1;32mnot\u001b[0m \u001b[0msl2\u001b[0m\u001b[1;33m:\u001b[0m\u001b[1;33m\u001b[0m\u001b[1;33m\u001b[0m\u001b[0m\n",
      "\u001b[1;32m~\\Anaconda3\\envs\\keras-gpu\\lib\\site-packages\\nltk\\tokenize\\punkt.py\u001b[0m in \u001b[0;36m_pair_iter\u001b[1;34m(it)\u001b[0m\n\u001b[0;32m    316\u001b[0m     \u001b[0mit\u001b[0m \u001b[1;33m=\u001b[0m \u001b[0miter\u001b[0m\u001b[1;33m(\u001b[0m\u001b[0mit\u001b[0m\u001b[1;33m)\u001b[0m\u001b[1;33m\u001b[0m\u001b[1;33m\u001b[0m\u001b[0m\n\u001b[0;32m    317\u001b[0m     \u001b[1;32mtry\u001b[0m\u001b[1;33m:\u001b[0m\u001b[1;33m\u001b[0m\u001b[1;33m\u001b[0m\u001b[0m\n\u001b[1;32m--> 318\u001b[1;33m         \u001b[0mprev\u001b[0m \u001b[1;33m=\u001b[0m \u001b[0mnext\u001b[0m\u001b[1;33m(\u001b[0m\u001b[0mit\u001b[0m\u001b[1;33m)\u001b[0m\u001b[1;33m\u001b[0m\u001b[1;33m\u001b[0m\u001b[0m\n\u001b[0m\u001b[0;32m    319\u001b[0m     \u001b[1;32mexcept\u001b[0m \u001b[0mStopIteration\u001b[0m\u001b[1;33m:\u001b[0m\u001b[1;33m\u001b[0m\u001b[1;33m\u001b[0m\u001b[0m\n\u001b[0;32m    320\u001b[0m         \u001b[1;32mreturn\u001b[0m\u001b[1;33m\u001b[0m\u001b[1;33m\u001b[0m\u001b[0m\n",
      "\u001b[1;32m~\\Anaconda3\\envs\\keras-gpu\\lib\\site-packages\\nltk\\tokenize\\punkt.py\u001b[0m in \u001b[0;36m_slices_from_text\u001b[1;34m(self, text)\u001b[0m\n\u001b[0;32m   1333\u001b[0m     \u001b[1;32mdef\u001b[0m \u001b[0m_slices_from_text\u001b[0m\u001b[1;33m(\u001b[0m\u001b[0mself\u001b[0m\u001b[1;33m,\u001b[0m \u001b[0mtext\u001b[0m\u001b[1;33m)\u001b[0m\u001b[1;33m:\u001b[0m\u001b[1;33m\u001b[0m\u001b[1;33m\u001b[0m\u001b[0m\n\u001b[0;32m   1334\u001b[0m         \u001b[0mlast_break\u001b[0m \u001b[1;33m=\u001b[0m \u001b[1;36m0\u001b[0m\u001b[1;33m\u001b[0m\u001b[1;33m\u001b[0m\u001b[0m\n\u001b[1;32m-> 1335\u001b[1;33m         \u001b[1;32mfor\u001b[0m \u001b[0mmatch\u001b[0m \u001b[1;32min\u001b[0m \u001b[0mself\u001b[0m\u001b[1;33m.\u001b[0m\u001b[0m_lang_vars\u001b[0m\u001b[1;33m.\u001b[0m\u001b[0mperiod_context_re\u001b[0m\u001b[1;33m(\u001b[0m\u001b[1;33m)\u001b[0m\u001b[1;33m.\u001b[0m\u001b[0mfinditer\u001b[0m\u001b[1;33m(\u001b[0m\u001b[0mtext\u001b[0m\u001b[1;33m)\u001b[0m\u001b[1;33m:\u001b[0m\u001b[1;33m\u001b[0m\u001b[1;33m\u001b[0m\u001b[0m\n\u001b[0m\u001b[0;32m   1336\u001b[0m             \u001b[0mcontext\u001b[0m \u001b[1;33m=\u001b[0m \u001b[0mmatch\u001b[0m\u001b[1;33m.\u001b[0m\u001b[0mgroup\u001b[0m\u001b[1;33m(\u001b[0m\u001b[1;33m)\u001b[0m \u001b[1;33m+\u001b[0m \u001b[0mmatch\u001b[0m\u001b[1;33m.\u001b[0m\u001b[0mgroup\u001b[0m\u001b[1;33m(\u001b[0m\u001b[1;34m'after_tok'\u001b[0m\u001b[1;33m)\u001b[0m\u001b[1;33m\u001b[0m\u001b[1;33m\u001b[0m\u001b[0m\n\u001b[0;32m   1337\u001b[0m             \u001b[1;32mif\u001b[0m \u001b[0mself\u001b[0m\u001b[1;33m.\u001b[0m\u001b[0mtext_contains_sentbreak\u001b[0m\u001b[1;33m(\u001b[0m\u001b[0mcontext\u001b[0m\u001b[1;33m)\u001b[0m\u001b[1;33m:\u001b[0m\u001b[1;33m\u001b[0m\u001b[1;33m\u001b[0m\u001b[0m\n",
      "\u001b[1;31mTypeError\u001b[0m: expected string or bytes-like object"
     ]
    }
   ],
   "source": [
    "#Word2Vec MODEL\n",
    "from gensim.models import Word2Vec\n",
    "embedding_vector_size = 300\n",
    "tokens = word_tokenize(bigrams[revcorpus['processed_review']])\n",
    "wordvec_model = Word2Vec(\n",
    "    sentences = tokens,\n",
    "    size = embedding_vector_size,\n",
    "    min_count=3, window=5, workers=4)"
   ]
  },
  {
   "cell_type": "code",
   "execution_count": 143,
   "metadata": {},
   "outputs": [
    {
     "name": "stdout",
     "output_type": "stream",
     "text": [
      "Vocabulary size: 109\n",
      "Number of reviews:  25000\n"
     ]
    },
    {
     "data": {
      "text/plain": [
       "{'s': <gensim.models.keyedvectors.Vocab at 0x24022556080>,\n",
       " 't': <gensim.models.keyedvectors.Vocab at 0x24097b8cb38>,\n",
       " 'u': <gensim.models.keyedvectors.Vocab at 0x24097b8ceb8>,\n",
       " 'f': <gensim.models.keyedvectors.Vocab at 0x24097b8cd30>,\n",
       " ' ': <gensim.models.keyedvectors.Vocab at 0x24097b8c6a0>,\n",
       " 'g': <gensim.models.keyedvectors.Vocab at 0x24097b8ce10>,\n",
       " 'o': <gensim.models.keyedvectors.Vocab at 0x24097b8cc88>,\n",
       " 'm': <gensim.models.keyedvectors.Vocab at 0x24097b8ca58>,\n",
       " 'e': <gensim.models.keyedvectors.Vocab at 0x24097b8ce48>,\n",
       " 'n': <gensim.models.keyedvectors.Vocab at 0x24097b8c978>,\n",
       " 'j': <gensim.models.keyedvectors.Vocab at 0x24097b8ca20>,\n",
       " 'i': <gensim.models.keyedvectors.Vocab at 0x24097b8c828>,\n",
       " 'v': <gensim.models.keyedvectors.Vocab at 0x24097b8c748>,\n",
       " 'a': <gensim.models.keyedvectors.Vocab at 0x24097b8c9b0>,\n",
       " 'r': <gensim.models.keyedvectors.Vocab at 0x24097b8ca90>,\n",
       " 'l': <gensim.models.keyedvectors.Vocab at 0x24097b8cf98>,\n",
       " 'c': <gensim.models.keyedvectors.Vocab at 0x24097b8c860>,\n",
       " 'w': <gensim.models.keyedvectors.Vocab at 0x24097b8c710>,\n",
       " 'h': <gensim.models.keyedvectors.Vocab at 0x24097b8cc18>,\n",
       " 'd': <gensim.models.keyedvectors.Vocab at 0x24097b8c9e8>,\n",
       " 'y': <gensim.models.keyedvectors.Vocab at 0x24097b8ce80>,\n",
       " 'z': <gensim.models.keyedvectors.Vocab at 0x24097b8c898>,\n",
       " 'k': <gensim.models.keyedvectors.Vocab at 0x24097b8cc50>,\n",
       " 'b': <gensim.models.keyedvectors.Vocab at 0x24097b8c7b8>,\n",
       " 'p': <gensim.models.keyedvectors.Vocab at 0x24097b8ccc0>,\n",
       " 'x': <gensim.models.keyedvectors.Vocab at 0x24097b8cd68>,\n",
       " 'q': <gensim.models.keyedvectors.Vocab at 0x24097b8cdd8>,\n",
       " '¨': <gensim.models.keyedvectors.Vocab at 0x24097b8cba8>,\n",
       " '2': <gensim.models.keyedvectors.Vocab at 0x24097b8cfd0>,\n",
       " '0': <gensim.models.keyedvectors.Vocab at 0x24097b8cef0>,\n",
       " '1': <gensim.models.keyedvectors.Vocab at 0x24097b8cb70>,\n",
       " '6': <gensim.models.keyedvectors.Vocab at 0x24097b8cf60>,\n",
       " '8': <gensim.models.keyedvectors.Vocab at 0x24097b8c8d0>,\n",
       " '\\x96': <gensim.models.keyedvectors.Vocab at 0x24097b8cb00>,\n",
       " '4': <gensim.models.keyedvectors.Vocab at 0x24097b8cac8>,\n",
       " '5': <gensim.models.keyedvectors.Vocab at 0x24097b8c908>,\n",
       " '£': <gensim.models.keyedvectors.Vocab at 0x24002ba38d0>,\n",
       " '´': <gensim.models.keyedvectors.Vocab at 0x24002ba3ef0>,\n",
       " '3': <gensim.models.keyedvectors.Vocab at 0x24002ba3908>,\n",
       " '9': <gensim.models.keyedvectors.Vocab at 0x24002ba39b0>,\n",
       " '7': <gensim.models.keyedvectors.Vocab at 0x24002ba3eb8>,\n",
       " 'ê': <gensim.models.keyedvectors.Vocab at 0x24002ba3b00>,\n",
       " 'é': <gensim.models.keyedvectors.Vocab at 0x24002ba3b70>,\n",
       " '\\x84': <gensim.models.keyedvectors.Vocab at 0x24002ba3c50>,\n",
       " '\\x97': <gensim.models.keyedvectors.Vocab at 0x24002ba3c18>,\n",
       " 'ä': <gensim.models.keyedvectors.Vocab at 0x24002ba3dd8>,\n",
       " '’': <gensim.models.keyedvectors.Vocab at 0x24002ba3c88>,\n",
       " '–': <gensim.models.keyedvectors.Vocab at 0x24002ba3a58>,\n",
       " '‘': <gensim.models.keyedvectors.Vocab at 0x24002ba3be0>,\n",
       " 'ï': <gensim.models.keyedvectors.Vocab at 0x24002ba37f0>,\n",
       " '®': <gensim.models.keyedvectors.Vocab at 0x24002ba3f28>,\n",
       " '½': <gensim.models.keyedvectors.Vocab at 0x24002ba3e48>,\n",
       " 'è': <gensim.models.keyedvectors.Vocab at 0x24002ba3a90>,\n",
       " 'ç': <gensim.models.keyedvectors.Vocab at 0x24002ba3cf8>,\n",
       " 'ù': <gensim.models.keyedvectors.Vocab at 0x24002ba3828>,\n",
       " 'á': <gensim.models.keyedvectors.Vocab at 0x24002ba3fd0>,\n",
       " 'à': <gensim.models.keyedvectors.Vocab at 0x24002ba3f60>,\n",
       " 'ó': <gensim.models.keyedvectors.Vocab at 0x24002ba3860>,\n",
       " 'ü': <gensim.models.keyedvectors.Vocab at 0x24002ba3a20>,\n",
       " 'ø': <gensim.models.keyedvectors.Vocab at 0x24002ba37b8>,\n",
       " 'ö': <gensim.models.keyedvectors.Vocab at 0x24002ba3cc0>,\n",
       " 'ô': <gensim.models.keyedvectors.Vocab at 0x24002ba3ac8>,\n",
       " 'ë': <gensim.models.keyedvectors.Vocab at 0x24002ba3ba8>,\n",
       " '\\x91': <gensim.models.keyedvectors.Vocab at 0x24002ba3b38>,\n",
       " 'ì': <gensim.models.keyedvectors.Vocab at 0x24002ba39e8>,\n",
       " 'í': <gensim.models.keyedvectors.Vocab at 0x24002ba3d68>,\n",
       " 'ò': <gensim.models.keyedvectors.Vocab at 0x24002ba3da0>,\n",
       " '¿': <gensim.models.keyedvectors.Vocab at 0x24002ba3978>,\n",
       " 'ñ': <gensim.models.keyedvectors.Vocab at 0x24002ba3e80>,\n",
       " 'î': <gensim.models.keyedvectors.Vocab at 0x24002ba3898>,\n",
       " 'ã': <gensim.models.keyedvectors.Vocab at 0x24002ba3f98>,\n",
       " 'æ': <gensim.models.keyedvectors.Vocab at 0x24002ba3d30>,\n",
       " '¦': <gensim.models.keyedvectors.Vocab at 0x24002ba3e10>,\n",
       " 'â': <gensim.models.keyedvectors.Vocab at 0x24096833780>,\n",
       " 'å': <gensim.models.keyedvectors.Vocab at 0x24096833710>,\n",
       " 'û': <gensim.models.keyedvectors.Vocab at 0x24096833828>,\n",
       " '“': <gensim.models.keyedvectors.Vocab at 0x24096833f60>,\n",
       " '”': <gensim.models.keyedvectors.Vocab at 0x24096833208>,\n",
       " '¡': <gensim.models.keyedvectors.Vocab at 0x24096833f98>,\n",
       " 'ř': <gensim.models.keyedvectors.Vocab at 0x24096833fd0>,\n",
       " '…': <gensim.models.keyedvectors.Vocab at 0x24096833630>,\n",
       " 'ý': <gensim.models.keyedvectors.Vocab at 0x24096833ac8>,\n",
       " '«': <gensim.models.keyedvectors.Vocab at 0x240968333c8>,\n",
       " '»': <gensim.models.keyedvectors.Vocab at 0x240968335f8>,\n",
       " 'ú': <gensim.models.keyedvectors.Vocab at 0x24096833518>,\n",
       " '\\x08': <gensim.models.keyedvectors.Vocab at 0x24096833048>,\n",
       " 'õ': <gensim.models.keyedvectors.Vocab at 0x24096833470>,\n",
       " '\\uf0b7': <gensim.models.keyedvectors.Vocab at 0x24096833400>,\n",
       " '\\x95': <gensim.models.keyedvectors.Vocab at 0x24096833390>,\n",
       " '\\xad': <gensim.models.keyedvectors.Vocab at 0x24096833668>,\n",
       " '§': <gensim.models.keyedvectors.Vocab at 0x24096833b70>,\n",
       " '\\x8e': <gensim.models.keyedvectors.Vocab at 0x24096833438>,\n",
       " '\\x9e': <gensim.models.keyedvectors.Vocab at 0x24096833be0>,\n",
       " '·': <gensim.models.keyedvectors.Vocab at 0x24096833cc0>,\n",
       " '¤': <gensim.models.keyedvectors.Vocab at 0x24096833a58>,\n",
       " '\\x80': <gensim.models.keyedvectors.Vocab at 0x24096833c50>,\n",
       " 'ß': <gensim.models.keyedvectors.Vocab at 0x240968337b8>,\n",
       " 'ı': <gensim.models.keyedvectors.Vocab at 0x24096833c88>,\n",
       " 'º': <gensim.models.keyedvectors.Vocab at 0x24096833860>,\n",
       " '°': <gensim.models.keyedvectors.Vocab at 0x24096833080>,\n",
       " '¾': <gensim.models.keyedvectors.Vocab at 0x24096833128>,\n",
       " 'ō': <gensim.models.keyedvectors.Vocab at 0x24096833dd8>,\n",
       " 'ć': <gensim.models.keyedvectors.Vocab at 0x240968338d0>,\n",
       " '！': <gensim.models.keyedvectors.Vocab at 0x24096833278>,\n",
       " '★': <gensim.models.keyedvectors.Vocab at 0x240968334e0>,\n",
       " '²': <gensim.models.keyedvectors.Vocab at 0x240968336d8>,\n",
       " 'ş': <gensim.models.keyedvectors.Vocab at 0x240968334a8>,\n",
       " '\\x86': <gensim.models.keyedvectors.Vocab at 0x24096833e80>,\n",
       " '戒': <gensim.models.keyedvectors.Vocab at 0x24096833b00>}"
      ]
     },
     "execution_count": 143,
     "metadata": {},
     "output_type": "execute_result"
    }
   ],
   "source": [
    "print(\"Vocabulary size:\", len(wordvec_model.wv.vocab))\n",
    "print(\"Number of reviews: \",len(traindf))\n",
    "#wordvec_model.wv.most_similar(\"film\")\n",
    "wordvec_model.wv.vocab"
   ]
  },
  {
   "cell_type": "code",
   "execution_count": 27,
   "metadata": {},
   "outputs": [
    {
     "name": "stderr",
     "output_type": "stream",
     "text": [
      "Using TensorFlow backend.\n"
     ]
    },
    {
     "name": "stdout",
     "output_type": "stream",
     "text": [
      "Vectorize sentences... (done)\n"
     ]
    }
   ],
   "source": [
    "# Code grabbed from https://www.kaggle.com/alexcherniuk/imdb-review-word2vec-bilstm-99-acc\n",
    "from keras.preprocessing.sequence import pad_sequences\n",
    "def vectorize_data(data, vocab: dict) -> list:\n",
    "    print('Vectorize sentences...', end='\\r')\n",
    "    keys = list(vocab.keys())\n",
    "    filter_unknown = lambda word: vocab.get(word, None) is not None\n",
    "    encode = lambda review: list(map(keys.index, filter(filter_unknown, review)))\n",
    "    vectorized = list(map(encode, data))\n",
    "    print('Vectorize sentences... (done)')\n",
    "    return vectorized\n",
    "\n",
    "embed_size = 200\n",
    "X_pad = pad_sequences(\n",
    "    sequences=vectorize_data(traindf['processed_review'], vocab=wordvec_model.wv.vocab),\n",
    "    maxlen=embed_size,\n",
    "    padding='post')"
   ]
  },
  {
   "cell_type": "code",
   "execution_count": 20,
   "metadata": {},
   "outputs": [],
   "source": [
    "y = traindf['sentiment']"
   ]
  },
  {
   "cell_type": "code",
   "execution_count": 25,
   "metadata": {},
   "outputs": [
    {
     "name": "stdout",
     "output_type": "stream",
     "text": [
      "_________________________________________________________________\n",
      "Layer (type)                 Output Shape              Param #   \n",
      "=================================================================\n",
      "embedding_6 (Embedding)      (None, None, 128)         384000    \n",
      "_________________________________________________________________\n",
      "bidirectional_6 (Bidirection (None, None, 128)         99328     \n",
      "_________________________________________________________________\n",
      "global_max_pooling1d_6 (Glob (None, 128)               0         \n",
      "_________________________________________________________________\n",
      "dense_11 (Dense)             (None, 20)                2580      \n",
      "_________________________________________________________________\n",
      "dropout_8 (Dropout)          (None, 20)                0         \n",
      "_________________________________________________________________\n",
      "dense_12 (Dense)             (None, 1)                 21        \n",
      "=================================================================\n",
      "Total params: 485,929\n",
      "Trainable params: 485,929\n",
      "Non-trainable params: 0\n",
      "_________________________________________________________________\n"
     ]
    }
   ],
   "source": [
    "from keras.preprocessing.text import Tokenizer\n",
    "from keras.preprocessing.sequence import pad_sequences\n",
    "from keras.layers import Dense , Input , LSTM , Embedding, Dropout , Activation, GRU, Flatten,CuDNNLSTM\n",
    "from keras.layers import Bidirectional, GlobalMaxPool1D\n",
    "from keras.models import Model, Sequential\n",
    "from keras.layers import Convolution1D\n",
    "from keras import initializers, regularizers, constraints, optimizers, layers\n",
    "\n",
    "embed_size = 128\n",
    "model = Sequential()\n",
    "#model.add(Embedding(input_dim=wordvec_model.wv.vectors.shape[0],output_dim=wordvec_model.wv.vectors.shape[1],weights=[wordvec_model.wv.vectors], input_length=embed_size))\n",
    "model.add(Embedding(max_features,embed_size))\n",
    "model.add(Bidirectional(CuDNNLSTM(64,return_sequences = True)))\n",
    "model.add(GlobalMaxPool1D())\n",
    "#model.add(Dropout(0.1))\n",
    "model.add(Dense(20,activation='relu'))\n",
    "model.add(Dropout(0.05))\n",
    "model.add(Dense(1, activation=\"sigmoid\"))\n",
    "model.summary()\n",
    "\n"
   ]
  },
  {
   "cell_type": "code",
   "execution_count": 26,
   "metadata": {
    "scrolled": true
   },
   "outputs": [
    {
     "data": {
      "text/plain": [
       "array([[   0,    0,    0, ...,    3, 1048, 2474],\n",
       "       [   0,    0,    0, ...,    1,  732,  128],\n",
       "       [   0,    0,    0, ...,  905,   13,  283],\n",
       "       ...,\n",
       "       [   0,    0,    0, ...,  377,    1, 1753],\n",
       "       [   0,    0,    0, ...,   56,  411,    4],\n",
       "       [   0,    0,    0, ...,    4,   53,    3]])"
      ]
     },
     "execution_count": 26,
     "metadata": {},
     "output_type": "execute_result"
    }
   ],
   "source": [
    "from sklearn.model_selection import train_test_split\n",
    "X_train, X_test, y_train, y_test = train_test_split(X_pad, y, test_size=0.2, shuffle=True)\n",
    "X_test"
   ]
  },
  {
   "cell_type": "code",
   "execution_count": 1,
   "metadata": {},
   "outputs": [
    {
     "ename": "NameError",
     "evalue": "name 'model' is not defined",
     "output_type": "error",
     "traceback": [
      "\u001b[1;31m---------------------------------------------------------------------------\u001b[0m",
      "\u001b[1;31mNameError\u001b[0m                                 Traceback (most recent call last)",
      "\u001b[1;32m<ipython-input-1-fdbce7bc3bbc>\u001b[0m in \u001b[0;36m<module>\u001b[1;34m\u001b[0m\n\u001b[0;32m      1\u001b[0m \u001b[0mbatch_size\u001b[0m \u001b[1;33m=\u001b[0m \u001b[1;36m32\u001b[0m\u001b[1;33m\u001b[0m\u001b[1;33m\u001b[0m\u001b[0m\n\u001b[0;32m      2\u001b[0m \u001b[0mepochs\u001b[0m \u001b[1;33m=\u001b[0m \u001b[1;36m10\u001b[0m\u001b[1;33m\u001b[0m\u001b[1;33m\u001b[0m\u001b[0m\n\u001b[1;32m----> 3\u001b[1;33m \u001b[0mmodel\u001b[0m\u001b[1;33m.\u001b[0m\u001b[0mcompile\u001b[0m\u001b[1;33m(\u001b[0m\u001b[0mloss\u001b[0m\u001b[1;33m=\u001b[0m\u001b[1;34m'binary_crossentropy'\u001b[0m\u001b[1;33m,\u001b[0m \u001b[0moptimizer\u001b[0m\u001b[1;33m=\u001b[0m\u001b[1;34m'adam'\u001b[0m\u001b[1;33m,\u001b[0m \u001b[0mmetrics\u001b[0m\u001b[1;33m=\u001b[0m\u001b[1;33m[\u001b[0m\u001b[1;34m'accuracy'\u001b[0m\u001b[1;33m]\u001b[0m\u001b[1;33m)\u001b[0m\u001b[1;33m\u001b[0m\u001b[1;33m\u001b[0m\u001b[0m\n\u001b[0m\u001b[0;32m      4\u001b[0m \u001b[0mmodel\u001b[0m\u001b[1;33m.\u001b[0m\u001b[0mfit\u001b[0m\u001b[1;33m(\u001b[0m\u001b[0mX_pad\u001b[0m\u001b[1;33m,\u001b[0m\u001b[0my\u001b[0m\u001b[1;33m,\u001b[0m \u001b[0mbatch_size\u001b[0m\u001b[1;33m=\u001b[0m\u001b[0mbatch_size\u001b[0m\u001b[1;33m,\u001b[0m \u001b[0mepochs\u001b[0m\u001b[1;33m=\u001b[0m\u001b[0mepochs\u001b[0m\u001b[1;33m,\u001b[0m\u001b[0mvalidation_split\u001b[0m\u001b[1;33m=\u001b[0m\u001b[1;36m0.2\u001b[0m\u001b[1;33m)\u001b[0m\u001b[1;33m\u001b[0m\u001b[1;33m\u001b[0m\u001b[0m\n",
      "\u001b[1;31mNameError\u001b[0m: name 'model' is not defined"
     ]
    }
   ],
   "source": [
    "batch_size = 32\n",
    "epochs = 10\n",
    "model.compile(loss='binary_crossentropy', optimizer='adam', metrics=['accuracy'])\n",
    "model.fit(X_pad,y, batch_size=batch_size, epochs=epochs,validation_split=0.2)"
   ]
  },
  {
   "cell_type": "code",
   "execution_count": 18,
   "metadata": {
    "scrolled": true
   },
   "outputs": [
    {
     "name": "stdout",
     "output_type": "stream",
     "text": [
      "5000/5000 [==============================] - 2s 419us/step\n",
      "\n",
      "Test accuracy: 87.4%\n"
     ]
    }
   ],
   "source": [
    "# validate the model on test dataset to determine generalization\n",
    "loss, acc = model.evaluate(X_test, y_test, batch_size=batch_size)\n",
    "print(\"\\nTest accuracy: %.1f%%\" % (100.0 * acc))"
   ]
  },
  {
   "cell_type": "code",
   "execution_count": 13,
   "metadata": {},
   "outputs": [
    {
     "data": {
      "text/html": [
       "<div>\n",
       "<style scoped>\n",
       "    .dataframe tbody tr th:only-of-type {\n",
       "        vertical-align: middle;\n",
       "    }\n",
       "\n",
       "    .dataframe tbody tr th {\n",
       "        vertical-align: top;\n",
       "    }\n",
       "\n",
       "    .dataframe thead th {\n",
       "        text-align: right;\n",
       "    }\n",
       "</style>\n",
       "<table border=\"1\" class=\"dataframe\">\n",
       "  <thead>\n",
       "    <tr style=\"text-align: right;\">\n",
       "      <th></th>\n",
       "      <th>id</th>\n",
       "      <th>review</th>\n",
       "    </tr>\n",
       "  </thead>\n",
       "  <tbody>\n",
       "    <tr>\n",
       "      <td>0</td>\n",
       "      <td>\"12311_10\"</td>\n",
       "      <td>\"Naturally in a film who's main themes are of ...</td>\n",
       "    </tr>\n",
       "    <tr>\n",
       "      <td>1</td>\n",
       "      <td>\"8348_2\"</td>\n",
       "      <td>\"This movie is a disaster within a disaster fi...</td>\n",
       "    </tr>\n",
       "    <tr>\n",
       "      <td>2</td>\n",
       "      <td>\"5828_4\"</td>\n",
       "      <td>\"All in all, this is a movie for kids. We saw ...</td>\n",
       "    </tr>\n",
       "  </tbody>\n",
       "</table>\n",
       "</div>"
      ],
      "text/plain": [
       "           id                                             review\n",
       "0  \"12311_10\"  \"Naturally in a film who's main themes are of ...\n",
       "1    \"8348_2\"  \"This movie is a disaster within a disaster fi...\n",
       "2    \"5828_4\"  \"All in all, this is a movie for kids. We saw ..."
      ]
     },
     "execution_count": 13,
     "metadata": {},
     "output_type": "execute_result"
    }
   ],
   "source": [
    "testdf=pd.read_csv(\"testData.tsv\",header=0, delimiter=\"\\t\", quoting=3)\n",
    "testdf.head(3)\n"
   ]
  }
 ],
 "metadata": {
  "kernelspec": {
   "display_name": "Python 3",
   "language": "python",
   "name": "python3"
  },
  "language_info": {
   "codemirror_mode": {
    "name": "ipython",
    "version": 3
   },
   "file_extension": ".py",
   "mimetype": "text/x-python",
   "name": "python",
   "nbconvert_exporter": "python",
   "pygments_lexer": "ipython3",
   "version": "3.6.9"
  }
 },
 "nbformat": 4,
 "nbformat_minor": 2
}
